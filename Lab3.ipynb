{
 "cells": [
  {
   "attachments": {},
   "cell_type": "markdown",
   "metadata": {},
   "source": [
    "# CS4035 - Cyber Data Analytics\n",
    "## Lab 3 "
   ]
  },
  {
   "attachments": {},
   "cell_type": "markdown",
   "metadata": {},
   "source": [
    "### Submit on brightspace (zip file with the name Group_xx.zip)\n",
    "(i) This jupyter file completed with code, plots, figures and report for each question. Additional plots and figures can be created for explanation before the end of each main question. Lab 3 contains 4 main questions + 1 bonus. Write the code or explanation below each sub question. For the explantions, include what you would normally include in the report for this lab assignment, for example data pre-processing, hypothesis tested, approach, results, etc.\n",
    "(ii) A PDF or a Word report for the assignment. Create a report from the plots, figures, tables and the write-up that you provide in this jupyter file. The report will be used as a proof for page limit. \n",
    "(iii) The libraries needed to run this file. \n",
    "\n",
    "Your peers should be able to use the readme section for instructions and be able to run this file. "
   ]
  },
  {
   "attachments": {},
   "cell_type": "markdown",
   "metadata": {},
   "source": [
    "## Group Number :"
   ]
  },
  {
   "attachments": {},
   "cell_type": "markdown",
   "metadata": {},
   "source": [
    "## Student 1 \n",
    "### Name :\n",
    "### ID :"
   ]
  },
  {
   "attachments": {},
   "cell_type": "markdown",
   "metadata": {},
   "source": [
    "## Student 2\n",
    "### Name :\n",
    "### ID :"
   ]
  },
  {
   "attachments": {},
   "cell_type": "markdown",
   "metadata": {},
   "source": [
    "## Readme - Provide instructions - libraries used, location of the data file, etc. Keep it short. Remember your peers will not debug your code and should be able to reproduce the exact output you provide."
   ]
  },
  {
   "cell_type": "code",
   "execution_count": 82,
   "metadata": {},
   "outputs": [],
   "source": [
    "import pandas as pd\n",
    "import numpy as np\n",
    "import matplotlib.pyplot as plt\n",
    "from pyts.approximation import SymbolicAggregateApproximation #pip install pyts"
   ]
  },
  {
   "attachments": {},
   "cell_type": "markdown",
   "metadata": {},
   "source": [
    "## 1. Familiarization and discretization task – 1 A4 (5 Points)"
   ]
  },
  {
   "cell_type": "code",
   "execution_count": 68,
   "metadata": {},
   "outputs": [],
   "source": [
    "data = pd.read_csv(\"dataset_lab3/dataset_10/capture20110818.binetflow\")"
   ]
  },
  {
   "cell_type": "code",
   "execution_count": 69,
   "metadata": {},
   "outputs": [
    {
     "data": {
      "text/html": [
       "<div>\n",
       "<style scoped>\n",
       "    .dataframe tbody tr th:only-of-type {\n",
       "        vertical-align: middle;\n",
       "    }\n",
       "\n",
       "    .dataframe tbody tr th {\n",
       "        vertical-align: top;\n",
       "    }\n",
       "\n",
       "    .dataframe thead th {\n",
       "        text-align: right;\n",
       "    }\n",
       "</style>\n",
       "<table border=\"1\" class=\"dataframe\">\n",
       "  <thead>\n",
       "    <tr style=\"text-align: right;\">\n",
       "      <th></th>\n",
       "      <th>StartTime</th>\n",
       "      <th>Dur</th>\n",
       "      <th>Proto</th>\n",
       "      <th>SrcAddr</th>\n",
       "      <th>Sport</th>\n",
       "      <th>Dir</th>\n",
       "      <th>DstAddr</th>\n",
       "      <th>Dport</th>\n",
       "      <th>State</th>\n",
       "      <th>sTos</th>\n",
       "      <th>dTos</th>\n",
       "      <th>TotPkts</th>\n",
       "      <th>TotBytes</th>\n",
       "      <th>SrcBytes</th>\n",
       "      <th>Label</th>\n",
       "    </tr>\n",
       "  </thead>\n",
       "  <tbody>\n",
       "    <tr>\n",
       "      <th>0</th>\n",
       "      <td>2011/08/18 10:21:46.633335</td>\n",
       "      <td>1.060248</td>\n",
       "      <td>tcp</td>\n",
       "      <td>93.45.239.29</td>\n",
       "      <td>1611</td>\n",
       "      <td>-&gt;</td>\n",
       "      <td>147.32.84.118</td>\n",
       "      <td>6881</td>\n",
       "      <td>S_RA</td>\n",
       "      <td>0.0</td>\n",
       "      <td>0.0</td>\n",
       "      <td>4</td>\n",
       "      <td>252</td>\n",
       "      <td>132</td>\n",
       "      <td>flow=Background-TCP-Attempt</td>\n",
       "    </tr>\n",
       "    <tr>\n",
       "      <th>1</th>\n",
       "      <td>2011/08/18 10:19:49.027650</td>\n",
       "      <td>279.349152</td>\n",
       "      <td>tcp</td>\n",
       "      <td>62.240.166.118</td>\n",
       "      <td>1031</td>\n",
       "      <td>&lt;?&gt;</td>\n",
       "      <td>147.32.84.229</td>\n",
       "      <td>13363</td>\n",
       "      <td>SRPA_PA</td>\n",
       "      <td>0.0</td>\n",
       "      <td>0.0</td>\n",
       "      <td>15</td>\n",
       "      <td>1318</td>\n",
       "      <td>955</td>\n",
       "      <td>flow=Background-TCP-Attempt</td>\n",
       "    </tr>\n",
       "    <tr>\n",
       "      <th>2</th>\n",
       "      <td>2011/08/18 10:22:07.160628</td>\n",
       "      <td>166.390015</td>\n",
       "      <td>tcp</td>\n",
       "      <td>147.32.86.148</td>\n",
       "      <td>58067</td>\n",
       "      <td>-&gt;</td>\n",
       "      <td>66.235.132.232</td>\n",
       "      <td>80</td>\n",
       "      <td>SR_SA</td>\n",
       "      <td>0.0</td>\n",
       "      <td>0.0</td>\n",
       "      <td>3</td>\n",
       "      <td>212</td>\n",
       "      <td>134</td>\n",
       "      <td>flow=Background-TCP-Established</td>\n",
       "    </tr>\n",
       "    <tr>\n",
       "      <th>3</th>\n",
       "      <td>2011/08/18 10:26:02.052163</td>\n",
       "      <td>1.187083</td>\n",
       "      <td>tcp</td>\n",
       "      <td>147.32.3.51</td>\n",
       "      <td>3130</td>\n",
       "      <td>-&gt;</td>\n",
       "      <td>147.32.84.46</td>\n",
       "      <td>10010</td>\n",
       "      <td>S_RA</td>\n",
       "      <td>0.0</td>\n",
       "      <td>0.0</td>\n",
       "      <td>4</td>\n",
       "      <td>244</td>\n",
       "      <td>124</td>\n",
       "      <td>flow=Background-TCP-Attempt</td>\n",
       "    </tr>\n",
       "    <tr>\n",
       "      <th>4</th>\n",
       "      <td>2011/08/18 10:26:52.226748</td>\n",
       "      <td>0.980571</td>\n",
       "      <td>tcp</td>\n",
       "      <td>88.212.37.169</td>\n",
       "      <td>3134</td>\n",
       "      <td>-&gt;</td>\n",
       "      <td>147.32.84.118</td>\n",
       "      <td>6881</td>\n",
       "      <td>S_RA</td>\n",
       "      <td>0.0</td>\n",
       "      <td>0.0</td>\n",
       "      <td>4</td>\n",
       "      <td>244</td>\n",
       "      <td>124</td>\n",
       "      <td>flow=Background-TCP-Attempt</td>\n",
       "    </tr>\n",
       "  </tbody>\n",
       "</table>\n",
       "</div>"
      ],
      "text/plain": [
       "                    StartTime         Dur Proto         SrcAddr  Sport    Dir   \n",
       "0  2011/08/18 10:21:46.633335    1.060248   tcp    93.45.239.29   1611     ->  \\\n",
       "1  2011/08/18 10:19:49.027650  279.349152   tcp  62.240.166.118   1031    <?>   \n",
       "2  2011/08/18 10:22:07.160628  166.390015   tcp   147.32.86.148  58067     ->   \n",
       "3  2011/08/18 10:26:02.052163    1.187083   tcp     147.32.3.51   3130     ->   \n",
       "4  2011/08/18 10:26:52.226748    0.980571   tcp   88.212.37.169   3134     ->   \n",
       "\n",
       "          DstAddr  Dport    State  sTos  dTos  TotPkts  TotBytes  SrcBytes   \n",
       "0   147.32.84.118   6881     S_RA   0.0   0.0        4       252       132  \\\n",
       "1   147.32.84.229  13363  SRPA_PA   0.0   0.0       15      1318       955   \n",
       "2  66.235.132.232     80    SR_SA   0.0   0.0        3       212       134   \n",
       "3    147.32.84.46  10010     S_RA   0.0   0.0        4       244       124   \n",
       "4   147.32.84.118   6881     S_RA   0.0   0.0        4       244       124   \n",
       "\n",
       "                             Label  \n",
       "0      flow=Background-TCP-Attempt  \n",
       "1      flow=Background-TCP-Attempt  \n",
       "2  flow=Background-TCP-Established  \n",
       "3      flow=Background-TCP-Attempt  \n",
       "4      flow=Background-TCP-Attempt  "
      ]
     },
     "execution_count": 69,
     "metadata": {},
     "output_type": "execute_result"
    }
   ],
   "source": [
    "data.head()"
   ]
  },
  {
   "cell_type": "code",
   "execution_count": 70,
   "metadata": {},
   "outputs": [],
   "source": [
    "infected_data = data[data[\"SrcAddr\"] == \"147.32.84.165\"]\n",
    "non_infected = data[data[\"SrcAddr\"] == \"147.32.86.20\"]"
   ]
  },
  {
   "cell_type": "code",
   "execution_count": 87,
   "metadata": {},
   "outputs": [
    {
     "data": {
      "image/png": "[encoded data removed]",
      "text/plain": [
       "<Figure size 640x480 with 1 Axes>"
      ]
     },
     "metadata": {},
     "output_type": "display_data"
    },
    {
     "data": {
      "image/png": "[encoded data removed]",
      "text/plain": [
       "<Figure size 640x480 with 1 Axes>"
      ]
     },
     "metadata": {},
     "output_type": "display_data"
    },
    {
     "data": {
      "text/plain": [
       "Text(0.5, 1.0, 'Total number of packets (regular)')"
      ]
     },
     "execution_count": 87,
     "metadata": {},
     "output_type": "execute_result"
    },
    {
     "data": {
      "image/png": "[encoded data removed]",
      "text/plain": [
       "<Figure size 640x480 with 1 Axes>"
      ]
     },
     "metadata": {},
     "output_type": "display_data"
    }
   ],
   "source": [
    "protocoll = infected_data['Proto']\n",
    "total_packets = infected_data['TotPkts']\n",
    "protocoll_normal = non_infected['Proto']\n",
    "total_packets_normal = non_infected['TotPkts']\n",
    "\n",
    "plt.hist(protocoll, label='infected', log=True)\n",
    "plt.hist(protocoll_normal, label='regular', log=True)\n",
    "plt.legend()\n",
    "plt.title(\"Protocoll\")\n",
    "plt.show()\n",
    "\n",
    "plt.semilogy(range(len(total_packets)), total_packets, label='infected')\n",
    "plt.title(\"Total number of packets (infected host)\")\n",
    "\n",
    "plt.show()\n",
    "plt.plot(range(len(total_packets_normal)), total_packets_normal, label='regular')\n",
    "plt.title(\"Total number of packets (regular)\")\n"
   ]
  },
  {
   "cell_type": "code",
   "execution_count": 124,
   "metadata": {},
   "outputs": [],
   "source": [
    "def descritize_data(feature_data, num_bins=10, type=\"bins\", percentiles=None):\n",
    "    if type == \"bins\":\n",
    "        bin_boundaries = np.linspace(np.min(feature_data), np.max(feature_data), num_bins)\n",
    "        bin_indices = np.digitize(feature_data, bin_boundaries)\n",
    "        return bin_indices\n",
    "    elif type == \"percentile\":\n",
    "        sample = feature_data.sample(frac=0.1, random_state=42)\n",
    "        percentile_values = np.percentile(np.unique(sorted(total_packets)), percentiles)\n",
    "        discretized_array = np.digitize(feature_data, percentile_values)\n",
    "        return discretized_array\n",
    "    elif type == \"SAX\":\n",
    "        sax = SymbolicAggregateApproximation(n_bins=num_bins, strategy='normal')\n",
    "        saxed_data = sax.transform(feature_data)\n",
    "        return saxed_data"
   ]
  },
  {
   "cell_type": "code",
   "execution_count": 108,
   "metadata": {},
   "outputs": [
    {
     "name": "stdout",
     "output_type": "stream",
     "text": [
      "[  1   2   3   4   5   7   9  11 100]\n"
     ]
    },
    {
     "data": {
      "image/png": "[encoded data removed]",
      "text/plain": [
       "<Figure size 640x480 with 1 Axes>"
      ]
     },
     "metadata": {},
     "output_type": "display_data"
    }
   ],
   "source": [
    "# descrete_duration = descritize_data(protocoll, 20)\n",
    "# plt.plot(range(len(descrete_duration)), descrete_duration)\n",
    "# print(np.unique(descrete_duration))\n",
    "# plt.show()\n",
    "\n",
    "descrete_packets = descritize_data(total_packets, 100)\n",
    "plt.plot(range(len(descrete_packets)), descrete_packets)\n",
    "print(np.unique(descrete_packets))"
   ]
  },
  {
   "cell_type": "code",
   "execution_count": 134,
   "metadata": {},
   "outputs": [
    {
     "name": "stdout",
     "output_type": "stream",
     "text": [
      "[1 2 3]\n"
     ]
    },
    {
     "data": {
      "image/png": "[encoded data removed]",
      "text/plain": [
       "<Figure size 640x480 with 1 Axes>"
      ]
     },
     "metadata": {},
     "output_type": "display_data"
    },
    {
     "data": {
      "text/plain": [
       "array([    1. ,     1.7,     2.4,     3.1,     3.8,     4.5,     5.2,\n",
       "           5.9,     6.6,     7.3,     8. ,     8.7,     9.4,    10.1,\n",
       "          10.8,    11.5,    12.2,    12.9,    13.6,    14.3,    15. ,\n",
       "          15.7,    16.4,    17.1,    17.8,    19. ,    20.2,    20.9,\n",
       "          21.6,    22.3,    23. ,    23.7,    24.4,    25.1,    25.8,\n",
       "          26.5,    27.2,    27.9,    28.6,    29.3,    30. ,    30.7,\n",
       "          31.4,    32.1,    32.8,    33.5,    34.2,    34.9,    35.6,\n",
       "          36.3,    37. ,    37.7,    38.4,    39.1,    39.8,    40.5,\n",
       "          41.2,    41.9,    42.6,    43.3,    44. ,    44.7,    45.8,\n",
       "          47.2,    48.6,    51. ,    59.4,    81.8,   120.4,   150. ,\n",
       "         164. ,   236.1,   964.2,  2013.1,  2034.8,  2055.5,  2071. ,\n",
       "        2074.5,  2088.8,  2206.6,  2460. ,  2481. ,  2574. ,  2819.2,\n",
       "        3653.6,  4826.5,  5992.4,  6802.3,  7381.2,  7716.1,  7777. ,\n",
       "        7784. ,  7817.4,  7865.8,  7885.4,  9445.5, 11846.8, 14810.6,\n",
       "       17471.4, 66150.3])"
      ]
     },
     "execution_count": 134,
     "metadata": {},
     "output_type": "execute_result"
    }
   ],
   "source": [
    "# descrete_duration = descritize_data(duration, type=\"percentile\", percentiles=range(0, 100, 5))\n",
    "# plt.plot(range(len(descrete_duration)), descrete_duration)\n",
    "# plt.title(\"discretized Duration\")\n",
    "# print(np.unique(descrete_duration))\n",
    "# plt.show()\n",
    "descrete_packets = descritize_data(total_packets, type=\"percentile\", percentiles=[0, 70, 99])\n",
    "plt.plot(range(len(descrete_packets)), descrete_packets)\n",
    "plt.title(\"discretized Total Packets\")\n",
    "print(np.unique(descrete_packets))\n",
    "plt.show()\n",
    "\n",
    "# descrete_packets = descritize_data(np.array(total_packets).reshape(-1, 1) , num_bins=10, type=\"SAX\")\n",
    "# descrete_packets = np.array(descrete_packets)\n",
    "# plt.plot(range(len(descrete_packets)), descrete_packets)\n",
    "# plt.title(\"discretized Total Packets\")\n",
    "# print(np.unique(descrete_packets))\n",
    "# plt.show()\n",
    "\n",
    "# np.set_printoptions(suppress=True)\n",
    "# np.percentile(np.unique(sorted(total_packets)), range(0, 100, 1))"
   ]
  },
  {
   "cell_type": "code",
   "execution_count": 75,
   "metadata": {},
   "outputs": [],
   "source": [
    "# potential_hosts = data[\"SrcAddr\"][data[\"Label\"].str.contains(\"Botnet\")]\n",
    "# for add in potential_hosts:\n",
    "#     infected_data = data[data[\"SrcAddr\"] == add]\n",
    "#     duration = infected_data['Dur']\n",
    "#     total_packets = infected_data['TotPkts']\n",
    "#     plt.plot(range(len(duration)), duration)\n",
    "#     plt.title(\"Duration\")\n",
    "#     plt.show()\n",
    "#     plt.plot(range(len(total_packets)), total_packets)\n",
    "#     plt.title(\"Total number of packets\")\n",
    "#     plt.show()\n",
    "#     input()"
   ]
  },
  {
   "cell_type": "code",
   "execution_count": 76,
   "metadata": {},
   "outputs": [],
   "source": [
    "# combined_features_mean = np.mean([descrete_duration, descrete_packets], axis=0)\n",
    "# combined_features_add = descrete_duration + descrete_packets\n",
    "# plt.plot(range(len(combined_features_mean)), combined_features_mean)\n",
    "# plt.title(\"Combined descretized features (mean)\")\n",
    "# plt.show()\n",
    "# plt.plot(range(len(combined_features_add)), combined_features_add)\n",
    "# plt.title(\"Combined descretized features (add)\")\n",
    "# plt.show()"
   ]
  },
  {
   "attachments": {},
   "cell_type": "markdown",
   "metadata": {},
   "source": [
    "### 1a. Plot visualizations - Select and visualize two features for modeling the behavior of the infected host."
   ]
  },
  {
   "attachments": {},
   "cell_type": "markdown",
   "metadata": {},
   "source": [
    "### 1b. Discretize selected features"
   ]
  },
  {
   "cell_type": "code",
   "execution_count": null,
   "metadata": {},
   "outputs": [],
   "source": []
  },
  {
   "attachments": {},
   "cell_type": "markdown",
   "metadata": {},
   "source": [
    "### 1c. Answers and explanation"
   ]
  },
  {
   "cell_type": "code",
   "execution_count": null,
   "metadata": {},
   "outputs": [],
   "source": []
  },
  {
   "attachments": {},
   "cell_type": "markdown",
   "metadata": {},
   "source": [
    "## 2. Sketching task – 1/2 A4 (Individual, 10 Points)"
   ]
  },
  {
   "attachments": {},
   "cell_type": "markdown",
   "metadata": {},
   "source": [
    "### 2a. COUNT-MIN sketch\n"
   ]
  },
  {
   "cell_type": "code",
   "execution_count": null,
   "metadata": {},
   "outputs": [],
   "source": []
  },
  {
   "attachments": {},
   "cell_type": "markdown",
   "metadata": {},
   "source": [
    "### 2b. Analysis and answers to the questions"
   ]
  },
  {
   "cell_type": "code",
   "execution_count": null,
   "metadata": {},
   "outputs": [],
   "source": []
  },
  {
   "attachments": {},
   "cell_type": "markdown",
   "metadata": {},
   "source": [
    "## 3. Min-wise locality sensitive hashing task – 1/2 A4 (Individual, 10 Points)"
   ]
  },
  {
   "attachments": {},
   "cell_type": "markdown",
   "metadata": {},
   "source": [
    "### 3a. Implementation"
   ]
  },
  {
   "cell_type": "code",
   "execution_count": null,
   "metadata": {},
   "outputs": [],
   "source": []
  },
  {
   "attachments": {},
   "cell_type": "markdown",
   "metadata": {},
   "source": [
    "### 3b. Analysis and answers to the questions"
   ]
  },
  {
   "cell_type": "code",
   "execution_count": null,
   "metadata": {},
   "outputs": [],
   "source": []
  },
  {
   "attachments": {},
   "cell_type": "markdown",
   "metadata": {},
   "source": [
    "## 4.Botnet profiling and fingerprinting task – 1 A4 (5 Points)"
   ]
  },
  {
   "attachments": {},
   "cell_type": "markdown",
   "metadata": {},
   "source": [
    "### 4a. Learn a sequential model, profiling and fingerprinting"
   ]
  },
  {
   "cell_type": "code",
   "execution_count": null,
   "metadata": {},
   "outputs": [],
   "source": []
  },
  {
   "attachments": {},
   "cell_type": "markdown",
   "metadata": {},
   "source": [
    "### 4b. Analysis and answers to the questions."
   ]
  },
  {
   "cell_type": "code",
   "execution_count": null,
   "metadata": {},
   "outputs": [],
   "source": []
  },
  {
   "attachments": {},
   "cell_type": "markdown",
   "metadata": {},
   "source": [
    "## 5. Bonus Task 1/2 A4 (5 Points)"
   ]
  },
  {
   "attachments": {},
   "cell_type": "markdown",
   "metadata": {},
   "source": [
    "### 5a. Provide implementation and analysis."
   ]
  },
  {
   "cell_type": "code",
   "execution_count": null,
   "metadata": {},
   "outputs": [],
   "source": []
  }
 ],
 "metadata": {
  "kernelspec": {
   "display_name": "Python 3 (ipykernel)",
   "language": "python",
   "name": "python3"
  },
  "language_info": {
   "codemirror_mode": {
    "name": "ipython",
    "version": 3
   },
   "file_extension": ".py",
   "mimetype": "text/x-python",
   "name": "python",
   "nbconvert_exporter": "python",
   "pygments_lexer": "ipython3",
   "version": "3.10.6"
  }
 },
 "nbformat": 4,
 "nbformat_minor": 2
}
