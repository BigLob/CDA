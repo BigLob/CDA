{
 "cells": [
  {
   "attachments": {},
   "cell_type": "markdown",
   "metadata": {},
   "source": [
    "# CS4035 - Cyber Data Analytics\n",
    "## Lab 3 "
   ]
  },
  {
   "attachments": {},
   "cell_type": "markdown",
   "metadata": {},
   "source": [
    "### Submit on brightspace (zip file with the name Group_xx.zip)\n",
    "(i) This jupyter file completed with code, plots, figures and report for each question. Additional plots and figures can be created for explanation before the end of each main question. Lab 3 contains 4 main questions + 1 bonus. Write the code or explanation below each sub question. For the explantions, include what you would normally include in the report for this lab assignment, for example data pre-processing, hypothesis tested, approach, results, etc.\n",
    "(ii) A PDF or a Word report for the assignment. Create a report from the plots, figures, tables and the write-up that you provide in this jupyter file. The report will be used as a proof for page limit. \n",
    "(iii) The libraries needed to run this file. \n",
    "\n",
    "Your peers should be able to use the readme section for instructions and be able to run this file. "
   ]
  },
  {
   "attachments": {},
   "cell_type": "markdown",
   "metadata": {},
   "source": [
    "## Group Number : 10"
   ]
  },
  {
   "attachments": {},
   "cell_type": "markdown",
   "metadata": {},
   "source": [
    "## Student 1 \n",
    "### Name : Yuan Tian\n",
    "### ID : 5816971"
   ]
  },
  {
   "attachments": {},
   "cell_type": "markdown",
   "metadata": {},
   "source": [
    "## Student 2\n",
    "### Name : Raphael Frühwirth\n",
    "### ID : 5897297"
   ]
  },
  {
   "attachments": {},
   "cell_type": "markdown",
   "metadata": {},
   "source": [
    "## Readme - Provide instructions - libraries used, location of the data file, etc. Keep it short. Remember your peers will not debug your code and should be able to reproduce the exact output you provide."
   ]
  },
  {
   "cell_type": "code",
   "execution_count": 2,
   "metadata": {},
   "outputs": [],
   "source": [
    "# !pip install pyts"
   ]
  },
  {
   "cell_type": "code",
   "execution_count": 111,
   "metadata": {},
   "outputs": [],
   "source": [
    "import pandas as pd\n",
    "import numpy as np\n",
    "import matplotlib.pyplot as plt\n",
    "from pyts.approximation import SymbolicAggregateApproximation #pip install pyts\n",
    "import mmh3\n",
    "from sklearn.neighbors import NearestNeighbors\n",
    "import matplotlib.pyplot as plt\n",
    "from sklearn.metrics import jaccard_score\n",
    "from flexfringe import FlexFringe\n",
    "import json\n",
    "from collections import defaultdict\n",
    "from sklearn.metrics.pairwise import cosine_similarity\n",
    "import time\n",
    "pd.options.mode.chained_assignment = None\n",
    "\n",
    "\n",
    "path_flexfringe = \"/home/raphael/Downloads/flexfringe-x64-linux\""
   ]
  },
  {
   "attachments": {},
   "cell_type": "markdown",
   "metadata": {},
   "source": [
    "## 1. Familiarization and discretization task – 1 A4 (5 Points)"
   ]
  },
  {
   "cell_type": "code",
   "execution_count": 4,
   "metadata": {},
   "outputs": [],
   "source": [
    "data = pd.read_csv(\"dataset_lab3/dataset_10/capture20110818.binetflow\")\n",
    "data_9 = pd.read_csv(\"dataset_lab3/dataset_9/capture20110817.binetflow\")\n",
    "data_11 = pd.read_csv(\"dataset_lab3/dataset_11/capture20110818-2.binetflow\")\n",
    "data_12 = pd.read_csv(\"dataset_lab3/dataset_12/capture20110819.binetflow\")"
   ]
  },
  {
   "cell_type": "code",
   "execution_count": 5,
   "metadata": {},
   "outputs": [
    {
     "data": {
      "text/html": [
       "<div>\n",
       "<style scoped>\n",
       "    .dataframe tbody tr th:only-of-type {\n",
       "        vertical-align: middle;\n",
       "    }\n",
       "\n",
       "    .dataframe tbody tr th {\n",
       "        vertical-align: top;\n",
       "    }\n",
       "\n",
       "    .dataframe thead th {\n",
       "        text-align: right;\n",
       "    }\n",
       "</style>\n",
       "<table border=\"1\" class=\"dataframe\">\n",
       "  <thead>\n",
       "    <tr style=\"text-align: right;\">\n",
       "      <th></th>\n",
       "      <th>StartTime</th>\n",
       "      <th>Dur</th>\n",
       "      <th>Proto</th>\n",
       "      <th>SrcAddr</th>\n",
       "      <th>Sport</th>\n",
       "      <th>Dir</th>\n",
       "      <th>DstAddr</th>\n",
       "      <th>Dport</th>\n",
       "      <th>State</th>\n",
       "      <th>sTos</th>\n",
       "      <th>dTos</th>\n",
       "      <th>TotPkts</th>\n",
       "      <th>TotBytes</th>\n",
       "      <th>SrcBytes</th>\n",
       "      <th>Label</th>\n",
       "    </tr>\n",
       "  </thead>\n",
       "  <tbody>\n",
       "    <tr>\n",
       "      <th>0</th>\n",
       "      <td>2011/08/18 10:21:46.633335</td>\n",
       "      <td>1.060248</td>\n",
       "      <td>tcp</td>\n",
       "      <td>93.45.239.29</td>\n",
       "      <td>1611</td>\n",
       "      <td>-&gt;</td>\n",
       "      <td>147.32.84.118</td>\n",
       "      <td>6881</td>\n",
       "      <td>S_RA</td>\n",
       "      <td>0.0</td>\n",
       "      <td>0.0</td>\n",
       "      <td>4</td>\n",
       "      <td>252</td>\n",
       "      <td>132</td>\n",
       "      <td>flow=Background-TCP-Attempt</td>\n",
       "    </tr>\n",
       "    <tr>\n",
       "      <th>1</th>\n",
       "      <td>2011/08/18 10:19:49.027650</td>\n",
       "      <td>279.349152</td>\n",
       "      <td>tcp</td>\n",
       "      <td>62.240.166.118</td>\n",
       "      <td>1031</td>\n",
       "      <td>&lt;?&gt;</td>\n",
       "      <td>147.32.84.229</td>\n",
       "      <td>13363</td>\n",
       "      <td>SRPA_PA</td>\n",
       "      <td>0.0</td>\n",
       "      <td>0.0</td>\n",
       "      <td>15</td>\n",
       "      <td>1318</td>\n",
       "      <td>955</td>\n",
       "      <td>flow=Background-TCP-Attempt</td>\n",
       "    </tr>\n",
       "    <tr>\n",
       "      <th>2</th>\n",
       "      <td>2011/08/18 10:22:07.160628</td>\n",
       "      <td>166.390015</td>\n",
       "      <td>tcp</td>\n",
       "      <td>147.32.86.148</td>\n",
       "      <td>58067</td>\n",
       "      <td>-&gt;</td>\n",
       "      <td>66.235.132.232</td>\n",
       "      <td>80</td>\n",
       "      <td>SR_SA</td>\n",
       "      <td>0.0</td>\n",
       "      <td>0.0</td>\n",
       "      <td>3</td>\n",
       "      <td>212</td>\n",
       "      <td>134</td>\n",
       "      <td>flow=Background-TCP-Established</td>\n",
       "    </tr>\n",
       "    <tr>\n",
       "      <th>3</th>\n",
       "      <td>2011/08/18 10:26:02.052163</td>\n",
       "      <td>1.187083</td>\n",
       "      <td>tcp</td>\n",
       "      <td>147.32.3.51</td>\n",
       "      <td>3130</td>\n",
       "      <td>-&gt;</td>\n",
       "      <td>147.32.84.46</td>\n",
       "      <td>10010</td>\n",
       "      <td>S_RA</td>\n",
       "      <td>0.0</td>\n",
       "      <td>0.0</td>\n",
       "      <td>4</td>\n",
       "      <td>244</td>\n",
       "      <td>124</td>\n",
       "      <td>flow=Background-TCP-Attempt</td>\n",
       "    </tr>\n",
       "    <tr>\n",
       "      <th>4</th>\n",
       "      <td>2011/08/18 10:26:52.226748</td>\n",
       "      <td>0.980571</td>\n",
       "      <td>tcp</td>\n",
       "      <td>88.212.37.169</td>\n",
       "      <td>3134</td>\n",
       "      <td>-&gt;</td>\n",
       "      <td>147.32.84.118</td>\n",
       "      <td>6881</td>\n",
       "      <td>S_RA</td>\n",
       "      <td>0.0</td>\n",
       "      <td>0.0</td>\n",
       "      <td>4</td>\n",
       "      <td>244</td>\n",
       "      <td>124</td>\n",
       "      <td>flow=Background-TCP-Attempt</td>\n",
       "    </tr>\n",
       "  </tbody>\n",
       "</table>\n",
       "</div>"
      ],
      "text/plain": [
       "                    StartTime         Dur Proto         SrcAddr  Sport    Dir   \n",
       "0  2011/08/18 10:21:46.633335    1.060248   tcp    93.45.239.29   1611     ->  \\\n",
       "1  2011/08/18 10:19:49.027650  279.349152   tcp  62.240.166.118   1031    <?>   \n",
       "2  2011/08/18 10:22:07.160628  166.390015   tcp   147.32.86.148  58067     ->   \n",
       "3  2011/08/18 10:26:02.052163    1.187083   tcp     147.32.3.51   3130     ->   \n",
       "4  2011/08/18 10:26:52.226748    0.980571   tcp   88.212.37.169   3134     ->   \n",
       "\n",
       "          DstAddr  Dport    State  sTos  dTos  TotPkts  TotBytes  SrcBytes   \n",
       "0   147.32.84.118   6881     S_RA   0.0   0.0        4       252       132  \\\n",
       "1   147.32.84.229  13363  SRPA_PA   0.0   0.0       15      1318       955   \n",
       "2  66.235.132.232     80    SR_SA   0.0   0.0        3       212       134   \n",
       "3    147.32.84.46  10010     S_RA   0.0   0.0        4       244       124   \n",
       "4   147.32.84.118   6881     S_RA   0.0   0.0        4       244       124   \n",
       "\n",
       "                             Label  \n",
       "0      flow=Background-TCP-Attempt  \n",
       "1      flow=Background-TCP-Attempt  \n",
       "2  flow=Background-TCP-Established  \n",
       "3      flow=Background-TCP-Attempt  \n",
       "4      flow=Background-TCP-Attempt  "
      ]
     },
     "execution_count": 5,
     "metadata": {},
     "output_type": "execute_result"
    }
   ],
   "source": [
    "data.head()"
   ]
  },
  {
   "attachments": {},
   "cell_type": "markdown",
   "metadata": {},
   "source": [
    "### 1a. Plot visualizations - Select and visualize two features for modeling the behavior of the infected host."
   ]
  },
  {
   "cell_type": "code",
   "execution_count": 6,
   "metadata": {},
   "outputs": [],
   "source": [
    "infected_host_ip, infected_host_ip2  = data[data['Label'].str.contains(\"Botnet\")][\"SrcAddr\"].unique()[:2]\n",
    "regular_host_ip, regular_host_ip2  = data[data['Label'].str.contains(\"Normal\")][\"SrcAddr\"].unique()[:2]\n",
    "\n",
    "infected_data = data[data[\"SrcAddr\"] == infected_host_ip]\n",
    "non_infected = data[data[\"SrcAddr\"] == regular_host_ip]"
   ]
  },
  {
   "cell_type": "code",
   "execution_count": 33,
   "metadata": {},
   "outputs": [
    {
     "data": {
      "image/png": "[encoded data removed]",
      "text/plain": [
       "<Figure size 640x480 with 1 Axes>"
      ]
     },
     "metadata": {},
     "output_type": "display_data"
    },
    {
     "data": {
      "image/png": "[encoded data removed]",
      "text/plain": [
       "<Figure size 640x480 with 1 Axes>"
      ]
     },
     "metadata": {},
     "output_type": "display_data"
    },
    {
     "data": {
      "text/plain": [
       "Text(0.5, 1.0, 'Total number of packets (regular)')"
      ]
     },
     "execution_count": 33,
     "metadata": {},
     "output_type": "execute_result"
    },
    {
     "data": {
      "image/png": "[encoded data removed]",
      "text/plain": [
       "<Figure size 640x480 with 1 Axes>"
      ]
     },
     "metadata": {},
     "output_type": "display_data"
    }
   ],
   "source": [
    "protocol = infected_data['Proto']\n",
    "total_packets = infected_data['TotPkts']\n",
    "protocol_normal = non_infected['Proto']\n",
    "total_packets_normal = non_infected['TotPkts']\n",
    "\n",
    "plt.hist(protocol, label='infected', log=True)\n",
    "plt.hist(protocol_normal, label='regular', log=True)\n",
    "plt.legend()\n",
    "plt.title(\"Protocol\")\n",
    "plt.show()\n",
    "\n",
    "plt.semilogy(range(len(total_packets)), total_packets, label='infected')\n",
    "plt.title(\"Total number of packets (infected host)\")\n",
    "\n",
    "plt.show()\n",
    "plt.semilogy(range(len(total_packets_normal)), total_packets_normal, label='regular')\n",
    "plt.title(\"Total number of packets (regular)\")\n"
   ]
  },
  {
   "cell_type": "code",
   "execution_count": 8,
   "metadata": {},
   "outputs": [],
   "source": [
    "def preprocess_data(data):\n",
    "    # remove background flows\n",
    "    mask = ~data['Label'].str.contains('Background', case=False)\n",
    "    data = data[mask]\n",
    "    data[\"Label\"] = data['Label'].apply(lambda x: \"botnet\" if \"Botnet\" in x else \"normal\" if \"Normal\" in x else \"background\")\n",
    "    return data\n",
    "data = preprocess_data(data)"
   ]
  },
  {
   "cell_type": "code",
   "execution_count": 9,
   "metadata": {},
   "outputs": [
    {
     "name": "stdout",
     "output_type": "stream",
     "text": [
      "Regular flows: 15847\n",
      "Botnet flows: 106352\n",
      "Unique normal hosts: 18\n",
      "Unique bot hosts: 10\n",
      "Unique background hosts: 0\n"
     ]
    }
   ],
   "source": [
    "print(f\"Regular flows: {len(data[data['Label'].str.contains('normal')])}\")\n",
    "print(f\"Botnet flows: {len(data[data['Label'].str.contains('botnet')])}\")\n",
    "print(f'Unique normal hosts: {len(data[data[\"Label\"] == \"normal\"][\"SrcAddr\"].unique())}')\n",
    "print(f'Unique bot hosts: {len(data[data[\"Label\"] == \"botnet\"][\"SrcAddr\"].unique())}')\n",
    "print(f'Unique background hosts: {len(data[data[\"Label\"] == \"background\"][\"SrcAddr\"].unique())}')\n"
   ]
  },
  {
   "attachments": {},
   "cell_type": "markdown",
   "metadata": {},
   "source": [
    "### 1b. Discretize selected features"
   ]
  },
  {
   "cell_type": "code",
   "execution_count": 10,
   "metadata": {},
   "outputs": [],
   "source": [
    "def discretize_data(feature_data, num_bins=10, type=\"bins\", percentiles=None):\n",
    "    if type == \"bins\":\n",
    "        bin_boundaries = np.linspace(np.min(feature_data), np.max(feature_data), num_bins)\n",
    "        bin_indices = np.digitize(feature_data, bin_boundaries)\n",
    "        return bin_indices\n",
    "    elif type == \"percentile\":\n",
    "        sample = feature_data.sample(frac=0.1, random_state=42)\n",
    "        percentile_values = np.percentile(np.unique(sorted(total_packets)), percentiles)\n",
    "        discretized_array = np.digitize(feature_data, percentile_values)\n",
    "        return discretized_array\n",
    "    elif type == \"SAX\":\n",
    "        sax = SymbolicAggregateApproximation(n_bins=num_bins, strategy='normal')\n",
    "        saxed_data = sax.transform(feature_data)\n",
    "        return saxed_data"
   ]
  },
  {
   "cell_type": "code",
   "execution_count": 11,
   "metadata": {},
   "outputs": [
    {
     "name": "stdout",
     "output_type": "stream",
     "text": [
      "[  1   2   3   4   5   7   9  11 100]\n"
     ]
    },
    {
     "data": {
      "image/png": "[encoded data removed]",
      "text/plain": [
       "<Figure size 640x480 with 1 Axes>"
      ]
     },
     "metadata": {},
     "output_type": "display_data"
    }
   ],
   "source": [
    "# descrete_duration = descritize_data(protocoll, 20)\n",
    "# plt.plot(range(len(descrete_duration)), descrete_duration)\n",
    "# print(np.unique(descrete_duration))\n",
    "# plt.show()\n",
    "\n",
    "# bin\n",
    "discretized_packets = discretize_data(total_packets, 100)\n",
    "plt.plot(range(len(discretized_packets)), discretized_packets)\n",
    "print(np.unique(discretized_packets))"
   ]
  },
  {
   "cell_type": "code",
   "execution_count": 12,
   "metadata": {},
   "outputs": [
    {
     "name": "stdout",
     "output_type": "stream",
     "text": [
      "[1 2 3]\n"
     ]
    },
    {
     "data": {
      "image/png": "[encoded data removed]",
      "text/plain": [
       "<Figure size 640x480 with 1 Axes>"
      ]
     },
     "metadata": {},
     "output_type": "display_data"
    }
   ],
   "source": [
    "# descrete_duration = descritize_data(duration, type=\"percentile\", percentiles=range(0, 100, 5))\n",
    "# plt.plot(range(len(descrete_duration)), descrete_duration)\n",
    "# plt.title(\"discretized Duration\")\n",
    "# print(np.unique(descrete_duration))\n",
    "# plt.show()\n",
    "# percentile\n",
    "discretized_packets = discretize_data(total_packets, type=\"percentile\", percentiles=[0, 70, 99])\n",
    "plt.plot(range(len(discretized_packets)), discretized_packets)\n",
    "plt.title(\"discretized Total Packets\")\n",
    "print(np.unique(discretized_packets))\n",
    "plt.show()\n",
    "\n",
    "# descrete_packets = descritize_data(np.array(total_packets).reshape(-1, 1) , num_bins=10, type=\"SAX\")\n",
    "# descrete_packets = np.array(descrete_packets)\n",
    "# plt.plot(range(len(descrete_packets)), descrete_packets)\n",
    "# plt.title(\"discretized Total Packets\")\n",
    "# print(np.unique(descrete_packets))\n",
    "# plt.show()\n",
    "\n",
    "# np.set_printoptions(suppress=True)\n",
    "# np.percentile(np.unique(sorted(total_packets)), range(0, 100, 1))"
   ]
  },
  {
   "cell_type": "code",
   "execution_count": 13,
   "metadata": {},
   "outputs": [
    {
     "data": {
      "text/plain": [
       "array(['tcp', 'udp', 'arp', 'icmp'], dtype=object)"
      ]
     },
     "execution_count": 13,
     "metadata": {},
     "output_type": "execute_result"
    }
   ],
   "source": [
    "data[\"Proto\"].unique()"
   ]
  },
  {
   "cell_type": "code",
   "execution_count": 14,
   "metadata": {
    "scrolled": true
   },
   "outputs": [],
   "source": [
    "def encode_feature_pair(data):\n",
    "    def attribute_encoding(netflow, M_len):\n",
    "        features = ['TotPkts','Proto']\n",
    "        k = len(features)\n",
    "\n",
    "        spaceSize = M_len[0] * M_len[1]    \n",
    "        code = 0\n",
    "        for i in range(k):\n",
    "            code += netflow[features[i]] *  spaceSize/M_len[i]\n",
    "            spaceSize /= M_len[i]\n",
    "        return code\n",
    "\n",
    "    # discretize features: protocol and the number of packages to all data\n",
    "    discretized_df = data.copy()\n",
    "\n",
    "    from sklearn.preprocessing import LabelEncoder\n",
    "\n",
    "    # Create an instance of LabelEncoder\n",
    "    label_encoder = LabelEncoder()\n",
    "\n",
    "    # Fit the label encoder on the column with categorical values\n",
    "    discretized_df['Proto'] = label_encoder.fit_transform(discretized_df['Proto'])\n",
    "    discretized_df['TotPkts'] = discretize_data(discretized_df['TotPkts'], type=\"percentile\", percentiles=[0, 70, 99])\n",
    "\n",
    "    M_len = [len(np.unique(discretized_df.loc[:, 'TotPkts'])), len(np.unique(discretized_df['Proto']))]\n",
    "    #print(\"|M|:\",M_len)\n",
    "\n",
    "    discretized_df['encoded'] = discretized_df.apply(lambda row: attribute_encoding(row, M_len), axis=1).astype(int)\n",
    "\n",
    "    #print(np.unique(discretized_df['encoded']), len(np.unique(discretized_df['encoded'])))\n",
    "    return discretized_df\n",
    "discretized_df = encode_feature_pair(data)"
   ]
  },
  {
   "cell_type": "code",
   "execution_count": 15,
   "metadata": {},
   "outputs": [
    {
     "data": {
      "text/html": [
       "<div>\n",
       "<style scoped>\n",
       "    .dataframe tbody tr th:only-of-type {\n",
       "        vertical-align: middle;\n",
       "    }\n",
       "\n",
       "    .dataframe tbody tr th {\n",
       "        vertical-align: top;\n",
       "    }\n",
       "\n",
       "    .dataframe thead th {\n",
       "        text-align: right;\n",
       "    }\n",
       "</style>\n",
       "<table border=\"1\" class=\"dataframe\">\n",
       "  <thead>\n",
       "    <tr style=\"text-align: right;\">\n",
       "      <th></th>\n",
       "      <th>StartTime</th>\n",
       "      <th>Dur</th>\n",
       "      <th>Proto</th>\n",
       "      <th>SrcAddr</th>\n",
       "      <th>Sport</th>\n",
       "      <th>Dir</th>\n",
       "      <th>DstAddr</th>\n",
       "      <th>Dport</th>\n",
       "      <th>State</th>\n",
       "      <th>sTos</th>\n",
       "      <th>dTos</th>\n",
       "      <th>TotPkts</th>\n",
       "      <th>TotBytes</th>\n",
       "      <th>SrcBytes</th>\n",
       "      <th>Label</th>\n",
       "      <th>encoded</th>\n",
       "    </tr>\n",
       "  </thead>\n",
       "  <tbody>\n",
       "    <tr>\n",
       "      <th>532</th>\n",
       "      <td>2011/08/18 10:19:15.693956</td>\n",
       "      <td>3587.569824</td>\n",
       "      <td>2</td>\n",
       "      <td>147.32.84.164</td>\n",
       "      <td>54784</td>\n",
       "      <td>&lt;?&gt;</td>\n",
       "      <td>74.125.232.215</td>\n",
       "      <td>443</td>\n",
       "      <td>PA_PA</td>\n",
       "      <td>0.0</td>\n",
       "      <td>0.0</td>\n",
       "      <td>2</td>\n",
       "      <td>978731</td>\n",
       "      <td>245317</td>\n",
       "      <td>normal</td>\n",
       "      <td>10</td>\n",
       "    </tr>\n",
       "    <tr>\n",
       "      <th>822</th>\n",
       "      <td>2011/08/18 10:19:18.143576</td>\n",
       "      <td>198.072739</td>\n",
       "      <td>2</td>\n",
       "      <td>147.32.84.164</td>\n",
       "      <td>56165</td>\n",
       "      <td>&lt;?&gt;</td>\n",
       "      <td>74.125.232.197</td>\n",
       "      <td>80</td>\n",
       "      <td>FA_FA</td>\n",
       "      <td>0.0</td>\n",
       "      <td>0.0</td>\n",
       "      <td>1</td>\n",
       "      <td>924</td>\n",
       "      <td>462</td>\n",
       "      <td>normal</td>\n",
       "      <td>6</td>\n",
       "    </tr>\n",
       "    <tr>\n",
       "      <th>842</th>\n",
       "      <td>2011/08/18 10:19:18.303590</td>\n",
       "      <td>197.928329</td>\n",
       "      <td>2</td>\n",
       "      <td>147.32.84.164</td>\n",
       "      <td>57965</td>\n",
       "      <td>&lt;?&gt;</td>\n",
       "      <td>209.85.149.138</td>\n",
       "      <td>80</td>\n",
       "      <td>FA_FA</td>\n",
       "      <td>0.0</td>\n",
       "      <td>0.0</td>\n",
       "      <td>1</td>\n",
       "      <td>924</td>\n",
       "      <td>462</td>\n",
       "      <td>normal</td>\n",
       "      <td>6</td>\n",
       "    </tr>\n",
       "    <tr>\n",
       "      <th>1021</th>\n",
       "      <td>2011/08/18 10:19:19.838272</td>\n",
       "      <td>0.000399</td>\n",
       "      <td>3</td>\n",
       "      <td>147.32.84.170</td>\n",
       "      <td>45807</td>\n",
       "      <td>&lt;-&gt;</td>\n",
       "      <td>147.32.80.9</td>\n",
       "      <td>53</td>\n",
       "      <td>CON</td>\n",
       "      <td>0.0</td>\n",
       "      <td>0.0</td>\n",
       "      <td>1</td>\n",
       "      <td>400</td>\n",
       "      <td>74</td>\n",
       "      <td>normal</td>\n",
       "      <td>7</td>\n",
       "    </tr>\n",
       "    <tr>\n",
       "      <th>1022</th>\n",
       "      <td>2011/08/18 10:19:19.839123</td>\n",
       "      <td>0.000400</td>\n",
       "      <td>3</td>\n",
       "      <td>147.32.84.170</td>\n",
       "      <td>35380</td>\n",
       "      <td>&lt;-&gt;</td>\n",
       "      <td>147.32.80.9</td>\n",
       "      <td>53</td>\n",
       "      <td>CON</td>\n",
       "      <td>0.0</td>\n",
       "      <td>0.0</td>\n",
       "      <td>1</td>\n",
       "      <td>400</td>\n",
       "      <td>74</td>\n",
       "      <td>normal</td>\n",
       "      <td>7</td>\n",
       "    </tr>\n",
       "    <tr>\n",
       "      <th>...</th>\n",
       "      <td>...</td>\n",
       "      <td>...</td>\n",
       "      <td>...</td>\n",
       "      <td>...</td>\n",
       "      <td>...</td>\n",
       "      <td>...</td>\n",
       "      <td>...</td>\n",
       "      <td>...</td>\n",
       "      <td>...</td>\n",
       "      <td>...</td>\n",
       "      <td>...</td>\n",
       "      <td>...</td>\n",
       "      <td>...</td>\n",
       "      <td>...</td>\n",
       "      <td>...</td>\n",
       "      <td>...</td>\n",
       "    </tr>\n",
       "    <tr>\n",
       "      <th>1309670</th>\n",
       "      <td>2011/08/18 15:04:58.033603</td>\n",
       "      <td>0.000743</td>\n",
       "      <td>1</td>\n",
       "      <td>147.32.84.164</td>\n",
       "      <td>0x0008</td>\n",
       "      <td>&lt;-&gt;</td>\n",
       "      <td>147.32.96.69</td>\n",
       "      <td>0x841e</td>\n",
       "      <td>ECO</td>\n",
       "      <td>0.0</td>\n",
       "      <td>0.0</td>\n",
       "      <td>1</td>\n",
       "      <td>196</td>\n",
       "      <td>98</td>\n",
       "      <td>normal</td>\n",
       "      <td>5</td>\n",
       "    </tr>\n",
       "    <tr>\n",
       "      <th>1309736</th>\n",
       "      <td>2011/08/18 15:04:59.032685</td>\n",
       "      <td>0.000913</td>\n",
       "      <td>1</td>\n",
       "      <td>147.32.84.164</td>\n",
       "      <td>0x0008</td>\n",
       "      <td>&lt;-&gt;</td>\n",
       "      <td>147.32.96.69</td>\n",
       "      <td>0x841e</td>\n",
       "      <td>ECO</td>\n",
       "      <td>0.0</td>\n",
       "      <td>0.0</td>\n",
       "      <td>1</td>\n",
       "      <td>196</td>\n",
       "      <td>98</td>\n",
       "      <td>normal</td>\n",
       "      <td>5</td>\n",
       "    </tr>\n",
       "    <tr>\n",
       "      <th>1309782</th>\n",
       "      <td>2011/08/18 15:04:59.532629</td>\n",
       "      <td>0.000414</td>\n",
       "      <td>3</td>\n",
       "      <td>147.32.84.170</td>\n",
       "      <td>37138</td>\n",
       "      <td>&lt;-&gt;</td>\n",
       "      <td>147.32.80.9</td>\n",
       "      <td>53</td>\n",
       "      <td>CON</td>\n",
       "      <td>0.0</td>\n",
       "      <td>0.0</td>\n",
       "      <td>1</td>\n",
       "      <td>244</td>\n",
       "      <td>81</td>\n",
       "      <td>normal</td>\n",
       "      <td>7</td>\n",
       "    </tr>\n",
       "    <tr>\n",
       "      <th>1309783</th>\n",
       "      <td>2011/08/18 15:04:59.533932</td>\n",
       "      <td>0.000322</td>\n",
       "      <td>3</td>\n",
       "      <td>147.32.84.170</td>\n",
       "      <td>39771</td>\n",
       "      <td>&lt;-&gt;</td>\n",
       "      <td>147.32.80.9</td>\n",
       "      <td>53</td>\n",
       "      <td>CON</td>\n",
       "      <td>0.0</td>\n",
       "      <td>0.0</td>\n",
       "      <td>1</td>\n",
       "      <td>280</td>\n",
       "      <td>81</td>\n",
       "      <td>normal</td>\n",
       "      <td>7</td>\n",
       "    </tr>\n",
       "    <tr>\n",
       "      <th>1309784</th>\n",
       "      <td>2011/08/18 15:04:59.535652</td>\n",
       "      <td>0.109055</td>\n",
       "      <td>2</td>\n",
       "      <td>147.32.84.170</td>\n",
       "      <td>43073</td>\n",
       "      <td>-&gt;</td>\n",
       "      <td>195.24.232.205</td>\n",
       "      <td>80</td>\n",
       "      <td>SPA_SA</td>\n",
       "      <td>0.0</td>\n",
       "      <td>0.0</td>\n",
       "      <td>1</td>\n",
       "      <td>557</td>\n",
       "      <td>417</td>\n",
       "      <td>normal</td>\n",
       "      <td>6</td>\n",
       "    </tr>\n",
       "  </tbody>\n",
       "</table>\n",
       "<p>122199 rows × 16 columns</p>\n",
       "</div>"
      ],
      "text/plain": [
       "                          StartTime          Dur  Proto        SrcAddr   \n",
       "532      2011/08/18 10:19:15.693956  3587.569824      2  147.32.84.164  \\\n",
       "822      2011/08/18 10:19:18.143576   198.072739      2  147.32.84.164   \n",
       "842      2011/08/18 10:19:18.303590   197.928329      2  147.32.84.164   \n",
       "1021     2011/08/18 10:19:19.838272     0.000399      3  147.32.84.170   \n",
       "1022     2011/08/18 10:19:19.839123     0.000400      3  147.32.84.170   \n",
       "...                             ...          ...    ...            ...   \n",
       "1309670  2011/08/18 15:04:58.033603     0.000743      1  147.32.84.164   \n",
       "1309736  2011/08/18 15:04:59.032685     0.000913      1  147.32.84.164   \n",
       "1309782  2011/08/18 15:04:59.532629     0.000414      3  147.32.84.170   \n",
       "1309783  2011/08/18 15:04:59.533932     0.000322      3  147.32.84.170   \n",
       "1309784  2011/08/18 15:04:59.535652     0.109055      2  147.32.84.170   \n",
       "\n",
       "          Sport    Dir         DstAddr   Dport   State  sTos  dTos  TotPkts   \n",
       "532       54784    <?>  74.125.232.215     443   PA_PA   0.0   0.0        2  \\\n",
       "822       56165    <?>  74.125.232.197      80   FA_FA   0.0   0.0        1   \n",
       "842       57965    <?>  209.85.149.138      80   FA_FA   0.0   0.0        1   \n",
       "1021      45807    <->     147.32.80.9      53     CON   0.0   0.0        1   \n",
       "1022      35380    <->     147.32.80.9      53     CON   0.0   0.0        1   \n",
       "...         ...    ...             ...     ...     ...   ...   ...      ...   \n",
       "1309670  0x0008    <->    147.32.96.69  0x841e     ECO   0.0   0.0        1   \n",
       "1309736  0x0008    <->    147.32.96.69  0x841e     ECO   0.0   0.0        1   \n",
       "1309782   37138    <->     147.32.80.9      53     CON   0.0   0.0        1   \n",
       "1309783   39771    <->     147.32.80.9      53     CON   0.0   0.0        1   \n",
       "1309784   43073     ->  195.24.232.205      80  SPA_SA   0.0   0.0        1   \n",
       "\n",
       "         TotBytes  SrcBytes   Label  encoded  \n",
       "532        978731    245317  normal       10  \n",
       "822           924       462  normal        6  \n",
       "842           924       462  normal        6  \n",
       "1021          400        74  normal        7  \n",
       "1022          400        74  normal        7  \n",
       "...           ...       ...     ...      ...  \n",
       "1309670       196        98  normal        5  \n",
       "1309736       196        98  normal        5  \n",
       "1309782       244        81  normal        7  \n",
       "1309783       280        81  normal        7  \n",
       "1309784       557       417  normal        6  \n",
       "\n",
       "[122199 rows x 16 columns]"
      ]
     },
     "execution_count": 15,
     "metadata": {},
     "output_type": "execute_result"
    }
   ],
   "source": [
    "discretized_df"
   ]
  },
  {
   "attachments": {},
   "cell_type": "markdown",
   "metadata": {},
   "source": [
    "### 1c. Answers and explanation"
   ]
  },
  {
   "attachments": {},
   "cell_type": "markdown",
   "metadata": {},
   "source": [
    "- Based on the plots, the distributions of protocols differ significantly between regular and infected hosts. Notably, icmp protocol is only observed in infected hosts. Additionally, the number of packages for infected hosts tends to be much larger, with values exceeding 1000 or even 10000, while regular hosts typically have values around 100. Therefore, the most relevant features are 'Proto' and 'TotPkts'.\n",
    "\n",
    "- In conclusion, if the protocol is icmp or the number of packages exceeds 1000, it is highly indicative of a host being infected."
   ]
  },
  {
   "attachments": {},
   "cell_type": "markdown",
   "metadata": {},
   "source": [
    "## 2. Sketching task – 1/2 A4 (Individual, 10 Points)"
   ]
  },
  {
   "attachments": {},
   "cell_type": "markdown",
   "metadata": {},
   "source": [
    "### 2a. COUNT-MIN sketch\n"
   ]
  },
  {
   "cell_type": "code",
   "execution_count": null,
   "metadata": {},
   "outputs": [],
   "source": []
  },
  {
   "attachments": {},
   "cell_type": "markdown",
   "metadata": {},
   "source": [
    "### 2b. Analysis and answers to the questions"
   ]
  },
  {
   "cell_type": "code",
   "execution_count": null,
   "metadata": {},
   "outputs": [],
   "source": []
  },
  {
   "attachments": {},
   "cell_type": "markdown",
   "metadata": {},
   "source": [
    "## 3. Min-wise locality sensitive hashing task – 1/2 A4 (Individual, 10 Points)"
   ]
  },
  {
   "attachments": {},
   "cell_type": "markdown",
   "metadata": {},
   "source": [
    "### 3a. Implementation"
   ]
  },
  {
   "cell_type": "code",
   "execution_count": 115,
   "metadata": {},
   "outputs": [],
   "source": [
    "def get_connection_profiles(discretized_df, num_connectios=10):\n",
    "    # get all unique src -> dst connections sorted by number of rows\n",
    "    unique_connections = discretized_df.groupby([\"SrcAddr\", \"DstAddr\"]).size().reset_index().rename(columns={0:'count'}).sort_values(by=\"count\", ascending=False)\n",
    "    unique_connections = unique_connections[:num_connectios]\n",
    "    src, dst = unique_connections[\"SrcAddr\"].tolist(), unique_connections[\"DstAddr\"].tolist()\n",
    "    n_gram_size = 3\n",
    "\n",
    "    # collect all unique ngrams for later use as rows in the count matrix\n",
    "    unique_ngrams = set()\n",
    "    for conn in zip(src, dst):\n",
    "        conn_data = discretized_df[(discretized_df[\"SrcAddr\"] == conn[0]) & (discretized_df[\"DstAddr\"] == conn[1])][\"encoded\"].tolist()\n",
    "        three_gram = [conn_data[i:i+n_gram_size] for i in range(len(conn_data)-n_gram_size)]\n",
    "        for ngram in three_gram:\n",
    "            unique_ngrams.add(str(ngram))    \n",
    "\n",
    "    connections = []\n",
    "    table = []\n",
    "    # loop over all connections\n",
    "    for conn in zip(src, dst):\n",
    "        connections.append(str(conn))\n",
    "        occurence = {k:0 for k in unique_ngrams}\n",
    "        # get combined dicretized feature for current connection\n",
    "        conn_data = discretized_df[(discretized_df[\"SrcAddr\"] == conn[0]) & (discretized_df[\"DstAddr\"] == conn[1])][\"encoded\"].tolist()\n",
    "        # create three grams\n",
    "        three_gram = [conn_data[i:i+n_gram_size] for i in range(len(conn_data)-n_gram_size)]\n",
    "        # keep track of 3grams that occur\n",
    "        for gram in three_gram:\n",
    "            occurence[str(gram)] = 1\n",
    "        table.append(occurence.values())\n",
    "\n",
    "    # convert occurence table to dataframe\n",
    "    connection_profiles = pd.DataFrame(table, columns=list(unique_ngrams), index=connections)\n",
    "    return connection_profiles\n",
    "connection_profiles = get_connection_profiles(discretized_df)"
   ]
  },
  {
   "cell_type": "code",
   "execution_count": 141,
   "metadata": {},
   "outputs": [],
   "source": [
    "def create_signature_matrix(connection_profiles, num_hashes=5):\n",
    "    def hash_func(x, params, p):\n",
    "        return (params[0]*x+params[1]) % p\n",
    "\n",
    "    # fix numpy seed\n",
    "    np.random.seed(42)\n",
    "\n",
    "    connection_profiles_tranpose = connection_profiles.T\n",
    "    num_rows = len(connection_profiles_tranpose)\n",
    "\n",
    "    # define params for hash functions\n",
    "    hash_params = []\n",
    "    for _ in range(num_hashes):\n",
    "        hash_params.append(np.random.randint(0, num_rows, 2))\n",
    "\n",
    "    # create slots for signature matrix\n",
    "    slots = np.full((num_hashes, connection_profiles_tranpose.shape[1]), np.inf)\n",
    "\n",
    "    # loop over all rows\n",
    "    for i in range(connection_profiles_tranpose.shape[0]):\n",
    "        row = connection_profiles_tranpose.iloc[i]\n",
    "        # loop over all columns\n",
    "        for j in range(len(row)):\n",
    "            # if columns is 1 calculate all hashes and select minimum\n",
    "            if row[j] == 1:\n",
    "                for x, params in enumerate(hash_params):\n",
    "                    slots[x][j] = min(slots[x][j], hash_func(i, params, num_rows))\n",
    "\n",
    "    # convert 2d array to dataframe\n",
    "    signature_matrix = pd.DataFrame(slots).astype(int)\n",
    "    return signature_matrix\n",
    "signature_matrix = create_signature_matrix(connection_profiles, 25)"
   ]
  },
  {
   "cell_type": "code",
   "execution_count": 40,
   "metadata": {},
   "outputs": [],
   "source": [
    "def column_sim(a, b):\n",
    "    intersection = sum(x and y for x, y in zip(a, b))\n",
    "    union = sum(x or y for x, y in zip(a, b))\n",
    "    return intersection / union\n",
    "\n",
    "def signature_sim(list1, list2):\n",
    "    agree = np.sum(list1 == list2)\n",
    "    return agree/len(list1)\n"
   ]
  },
  {
   "cell_type": "code",
   "execution_count": 91,
   "metadata": {},
   "outputs": [],
   "source": [
    "num_buckets = 20\n",
    "table = {k:[] for k in range(num_buckets)}\n",
    "# loop over all signatures and bucket them \n",
    "for i in range(len(signature_matrix.columns)):\n",
    "    band = \"\".join([str(x) for x in list(signature_matrix.iloc[:, i])])\n",
    "    bucket = hash(band) % num_buckets\n",
    "    bucket_list = table[bucket]\n",
    "    bucket_list.append(i)\n",
    "    table[bucket] = bucket_list"
   ]
  },
  {
   "cell_type": "code",
   "execution_count": 45,
   "metadata": {},
   "outputs": [
    {
     "data": {
      "text/plain": [
       "Text(0, 0.5, 'Difference')"
      ]
     },
     "execution_count": 45,
     "metadata": {},
     "output_type": "execute_result"
    },
    {
     "data": {
      "image/png": "[encoded data removed]",
      "text/plain": [
       "<Figure size 640x480 with 1 Axes>"
      ]
     },
     "metadata": {},
     "output_type": "display_data"
    }
   ],
   "source": [
    "# Compare column similarity with signature similarity\n",
    "similarity_difference = []\n",
    "for i in range(len(connection_profiles)-1):\n",
    "    #print(\"Column\", column_sim(connection_profiles.iloc[i], connection_profiles.iloc[i+1]))\n",
    "    #print(\"Signature\", signature_sim(signature_matrix.iloc[:, i], signature_matrix.iloc[:, i+1]))\n",
    "    #print(\"-\"*25)\n",
    "    similarity_difference.append(np.abs(column_sim(connection_profiles.iloc[i], connection_profiles.iloc[i+1]) - signature_sim(signature_matrix.iloc[:, i], signature_matrix.iloc[:, i+1])))\n",
    "plt.plot(similarity_difference)\n",
    "plt.title(\"Difference between column similarity and signature similarity\")\n",
    "plt.ylabel(\"Difference\")"
   ]
  },
  {
   "cell_type": "code",
   "execution_count": 108,
   "metadata": {},
   "outputs": [
    {
     "name": "stdout",
     "output_type": "stream",
     "text": [
      "Nearest neighbors: 5\n"
     ]
    }
   ],
   "source": [
    "def find_nearest_neighbors(connection_profiles):\n",
    "    nearest_neighbors = []\n",
    "    # loop over all connections\n",
    "    for i in range(len(connection_profiles)):\n",
    "        # get candidate profile\n",
    "        query_profile = connection_profiles.iloc[i]\n",
    "        max_similarity = -1\n",
    "        nearest_neighbor = None\n",
    "        # loop over all connections and determine the closest neighbor using jaccard score\n",
    "        for j in range(len(connection_profiles)):\n",
    "            if i != j:\n",
    "                similarity = jaccard_score(query_profile, connection_profiles.iloc[j])\n",
    "                if similarity > max_similarity:\n",
    "                    max_similarity = similarity\n",
    "                    nearest_neighbor = j\n",
    "\n",
    "        nearest_neighbors.append((i, nearest_neighbor))\n",
    "    return nearest_neighbor\n",
    "\n",
    "nearest_neighbors = find_nearest_neighbors(connection_profiles)\n",
    "print(\"Nearest neighbors:\", nearest_neighbors)"
   ]
  },
  {
   "cell_type": "code",
   "execution_count": 109,
   "metadata": {},
   "outputs": [
    {
     "name": "stdout",
     "output_type": "stream",
     "text": [
      "Nearest neighbors: [(0, 3), (1, 5), (2, 8), (3, 0), (4, 0), (5, 1), (6, 5), (7, 9), (8, 2), (9, 5)]\n"
     ]
    }
   ],
   "source": [
    "def calc_nearest_neighbors_lsh(signature_matrix):\n",
    "    nearest_neighbors_lsh = []\n",
    "    # loop over all signatures\n",
    "    for i in range(len(signature_matrix.columns)):\n",
    "        query_profile = signature_matrix.iloc[:, i]\n",
    "        max_similarity = -1\n",
    "        nearest_neighbor = None\n",
    "        # determine the nearest neighbor\n",
    "        for j in range(len(signature_matrix.columns)):\n",
    "            if i != j:\n",
    "                similarity = signature_sim(query_profile,  signature_matrix.iloc[:, j])\n",
    "                if similarity > max_similarity:\n",
    "                    max_similarity = similarity\n",
    "                    nearest_neighbor = j\n",
    "\n",
    "        nearest_neighbors_lsh.append((i, nearest_neighbor))\n",
    "    return nearest_neighbors_lsh\n",
    "\n",
    "nearest_neighbor = calc_nearest_neighbors_lsh(signature_matrix)\n",
    "print(\"Nearest neighbors:\", nearest_neighbor)"
   ]
  },
  {
   "cell_type": "code",
   "execution_count": 110,
   "metadata": {},
   "outputs": [
    {
     "name": "stdout",
     "output_type": "stream",
     "text": [
      "Percentage of true neighbors to signature neighbors: 100.0%\n"
     ]
    }
   ],
   "source": [
    "nearest_neighbors_lsh = calc_nearest_neighbors_lsh(signature_matrix)\n",
    "percentage_true_neigbor = np.sum(np.array(nearest_neighbors)[:, 1] == np.array(nearest_neighbors_lsh)[:, 1])/len(nearest_neighbors)\n",
    "print(f\"Percentage of true neighbors to signature neighbors: {percentage_true_neigbor*100}%\")"
   ]
  },
  {
   "cell_type": "code",
   "execution_count": 113,
   "metadata": {},
   "outputs": [
    {
     "name": "stdout",
     "output_type": "stream",
     "text": [
      "Percentage of true neighbors to signature neighbors from Buckets: 20.0%\n"
     ]
    }
   ],
   "source": [
    "def calc_nearest_neighbors_lsh_from_bucket(signature_matrix, num_buckets=10):\n",
    "    table = {k:[] for k in range(num_buckets)}\n",
    "    # loop over all signatures and bucket them \n",
    "    for i in range(len(signature_matrix.columns)):\n",
    "        band = \"\".join([str(x) for x in list(signature_matrix.iloc[:, i])])\n",
    "        bucket = hash(band) % num_buckets\n",
    "        bucket_list = table[bucket]\n",
    "        bucket_list.append(i)\n",
    "        table[bucket] = bucket_list\n",
    "        \n",
    "    # calculate nearest neighbors from buckets\n",
    "    nearest_neighbors_lsh = np.full(len(connection_profiles), -1)\n",
    "    for bucket_idx, bucket in enumerate(table.values()):        \n",
    "        if len(bucket) > 1:\n",
    "            for i in range(len(bucket)):\n",
    "                candidate = bucket[i]\n",
    "                query_profile = signature_matrix.iloc[:, candidate]\n",
    "                nearest_neighbor = 0\n",
    "                max_sim = -1\n",
    "                for j in range(len(bucket)):\n",
    "                    if i != j:\n",
    "                        sim = signature_sim(query_profile, signature_matrix.iloc[:, bucket[j]])\n",
    "                        if sim > max_sim:\n",
    "                            nearest_neighbor = bucket[j]\n",
    "                            max_sim = sim\n",
    "                nearest_neighbors_lsh[candidate] = nearest_neighbor\n",
    "    return nearest_neighbors_lsh\n",
    "nearest_neighbors_lsh = calc_nearest_neighbors_lsh_from_bucket(signature_matrix, 5)\n",
    "percentage_true_neighbors = np.sum(np.array(nearest_neighbors)[:, 1] == nearest_neighbors_lsh)/len(nearest_neighbors_lsh)\n",
    "print(f\"Percentage of true neighbors to signature neighbors from Buckets: {percentage_true_neighbors*100}%\")"
   ]
  },
  {
   "cell_type": "code",
   "execution_count": 142,
   "metadata": {},
   "outputs": [
    {
     "data": {
      "text/plain": [
       "Text(0.5, 1.0, 'True neigbors percentage for bucket comparison')"
      ]
     },
     "execution_count": 142,
     "metadata": {},
     "output_type": "execute_result"
    },
    {
     "data": {
      "image/png": "[encoded data removed]",
      "text/plain": [
       "<Figure size 640x480 with 1 Axes>"
      ]
     },
     "metadata": {},
     "output_type": "display_data"
    }
   ],
   "source": [
    "buckets = np.arange(3, 30, 1)\n",
    "percentages = []\n",
    "# create signature matrix with different number of bins\n",
    "signature_matrix = create_signature_matrix(connection_profiles, num_hashes=100)\n",
    "# loop over bucket values\n",
    "for bucket in buckets:\n",
    "    # find nearest neighbor for each signature\n",
    "    nearest_neighbors_lsh = calc_nearest_neighbors_lsh_from_bucket(signature_matrix, num_buckets=bucket)\n",
    "    # calculate percentage of neighbors that are the same as the true neighbors\n",
    "    percentage_true_neigbor = np.sum(np.array(nearest_neighbors)[:, 1] == np.array(nearest_neighbors_lsh))/len(nearest_neighbors)\n",
    "    percentages.append(percentage_true_neigbor)\n",
    "\n",
    "# plot the bins and percentage of true neighbours found\n",
    "plt.plot(buckets, percentages, 'o')\n",
    "plt.xlabel(\"Number of buckets\")\n",
    "plt.ylabel(\"Percentage of true neighbors found\")\n",
    "plt.title(\"True neigbors percentage for bucket comparison\")\n",
    "\n",
    "# Overall calculating the nearest neighbors from the hash buckets seems to only result in a rate of 60%. When using 3 buckets. "
   ]
  },
  {
   "attachments": {},
   "cell_type": "markdown",
   "metadata": {},
   "source": [
    "### 3b. Analysis and answers to the questions"
   ]
  },
  {
   "cell_type": "code",
   "execution_count": 140,
   "metadata": {},
   "outputs": [
    {
     "data": {
      "text/plain": [
       "Text(0.5, 1.0, 'True neigbors for pairwise comparison')"
      ]
     },
     "execution_count": 140,
     "metadata": {},
     "output_type": "execute_result"
    },
    {
     "data": {
      "image/png": "[encoded data removed]",
      "text/plain": [
       "<Figure size 640x480 with 1 Axes>"
      ]
     },
     "metadata": {},
     "output_type": "display_data"
    }
   ],
   "source": [
    "connection_profiles = get_connection_profiles(discretized_df, 10)\n",
    "num_bins = np.arange(1, 250, 5)\n",
    "percentages = []\n",
    "# loop over bin values\n",
    "for bin in num_bins:\n",
    "    # create signature matrix with different number of bins\n",
    "    signature_matrix = create_signature_matrix(connection_profiles, num_hashes=bin)\n",
    "    # find nearest neighbor for each signature\n",
    "    nearest_neighbors_lsh = calc_nearest_neighbors_lsh(signature_matrix)\n",
    "    # calculate percentage of neighbors that are the same as the true neighbors\n",
    "    percentage_true_neigbor = np.sum(np.array(nearest_neighbors)[:, 1] == np.array(nearest_neighbors_lsh)[:, 1])/len(nearest_neighbors)\n",
    "    percentages.append(percentage_true_neigbor)\n",
    "\n",
    "# plot the bins and percentage of true neighbours found\n",
    "plt.plot(num_bins, percentages, 'o')\n",
    "plt.xlabel(\"Number of bins\")\n",
    "plt.ylabel(\"Percentage of true neighbors found\")\n",
    "plt.title(\"True neigbors for pairwise comparison\")"
   ]
  },
  {
   "attachments": {},
   "cell_type": "markdown",
   "metadata": {},
   "source": [
    "The performance of finding nearest neighbors with LSH increases if we increase the number of hashes used. This is likely because\n",
    "using more hashes results in a better approximations of the jaccard score. "
   ]
  },
  {
   "cell_type": "code",
   "execution_count": 151,
   "metadata": {},
   "outputs": [],
   "source": [
    "num_connections = [10, 25, 50, 10, 20, 30]\n",
    "connection_profiles = get_connection_profiles(discretized_df, 200)"
   ]
  },
  {
   "cell_type": "code",
   "execution_count": 152,
   "metadata": {},
   "outputs": [
    {
     "name": "stdout",
     "output_type": "stream",
     "text": [
      "Finding nearest neighbors using Jaccard Score:\n",
      "Elapsed time: 0.2099628448486328 seconds\n",
      "Finding nearest neighbors using Jaccard Score:\n",
      "Elapsed time: 0.9983043670654297 seconds\n",
      "Finding nearest neighbors using Jaccard Score:\n",
      "Elapsed time: 4.556672811508179 seconds\n",
      "Finding nearest neighbors using Jaccard Score:\n",
      "Elapsed time: 0.16326403617858887 seconds\n",
      "Finding nearest neighbors using Jaccard Score:\n",
      "Elapsed time: 0.5982198715209961 seconds\n",
      "Finding nearest neighbors using Jaccard Score:\n",
      "Elapsed time: 1.5055794715881348 seconds\n"
     ]
    }
   ],
   "source": [
    "times = []\n",
    "sizes = []\n",
    "for n in num_connections:\n",
    "    connection_profiles = get_connection_profiles(discretized_df, n)\n",
    "    start_time = time.time()\n",
    "    find_nearest_neighbors(connection_profiles)\n",
    "    end_time = time.time()\n",
    "    elapsed_time_classic = end_time - start_time\n",
    "    print(f\"Finding nearest neighbors({n}) using Jaccard Score:\")\n",
    "    print(f\"Elapsed time: {elapsed_time_classic} seconds\")\n",
    "    bytes_classic = connection_profiles.iloc[0][0].itemsize * connection_profiles.shape[0] * connection_profiles.shape[1]\n",
    "    times.append(elapsed_time_classic)\n",
    "    sizes.append(bytes_classic)"
   ]
  },
  {
   "cell_type": "code",
   "execution_count": null,
   "metadata": {},
   "outputs": [],
   "source": [
    "times_lsh = []\n",
    "sizes_lsh = []\n",
    "for n in num_connections:\n",
    "    connection_profiles = get_connection_profiles(discretized_df, n)\n",
    "    start_time = time.time()\n",
    "    signature_matrix = create_signature_matrix(connection_profiles, 100)\n",
    "    calc_nearest_neighbors_lsh(signature_matrix)\n",
    "    end_time = time.time()\n",
    "    elapsed_time_lsh = end_time - start_time\n",
    "    print(f\"Finding nearest neighbors({n}) using LSH:\")\n",
    "    print(f\"Elapsed time: {elapsed_time_lsh} seconds\")\n",
    "    bytes_lsh = signature_matrix.iloc[0][0].itemsize * signature_matrix.shape[0] * signature_matrix.shape[1]\n",
    "    times_lsh.append(elapsed_time_lsh)\n",
    "    sizes_lsh.append(bytes_lsh)"
   ]
  },
  {
   "cell_type": "code",
   "execution_count": 173,
   "metadata": {},
   "outputs": [
    {
     "data": {
      "text/plain": [
       "<matplotlib.legend.Legend at 0x7f9037c6fc70>"
      ]
     },
     "execution_count": 173,
     "metadata": {},
     "output_type": "execute_result"
    },
    {
     "data": {
      "image/png": "[encoded data removed]",
      "text/plain": [
       "<Figure size 640x480 with 1 Axes>"
      ]
     },
     "metadata": {},
     "output_type": "display_data"
    }
   ],
   "source": [
    "plt.plot(num_connections, times, 'o', label=\"classic\")\n",
    "plt.plot(num_connections, times_lsh, 'x', label=\"LSH\")\n",
    "plt.title(\"Runtime Comparison (LSH vs Classic)\")\n",
    "plt.xlabel(\"Number of neighbors\")\n",
    "plt.ylabel(\"Time in seconds\")\n",
    "plt.legend()\n"
   ]
  },
  {
   "cell_type": "code",
   "execution_count": null,
   "metadata": {},
   "outputs": [],
   "source": []
  },
  {
   "cell_type": "code",
   "execution_count": null,
   "metadata": {},
   "outputs": [],
   "source": []
  },
  {
   "attachments": {},
   "cell_type": "markdown",
   "metadata": {},
   "source": []
  },
  {
   "attachments": {},
   "cell_type": "markdown",
   "metadata": {},
   "source": [
    "## 4.Botnet profiling and fingerprinting task – 1 A4 (5 Points)"
   ]
  },
  {
   "attachments": {},
   "cell_type": "markdown",
   "metadata": {},
   "source": [
    "### 4a. Learn a sequential model, profiling and fingerprinting"
   ]
  },
  {
   "cell_type": "code",
   "execution_count": 29,
   "metadata": {},
   "outputs": [],
   "source": [
    "# create flexfringe object\n",
    "flexfringe = FlexFringe(\n",
    "    flexfringe_path=path_flexfringe,\n",
    "    heuristic_name=\"alergia\",\n",
    "    data_name=\"alergia_data\",\n",
    "    slidingwindow=1, \n",
    "    swsize=15, \n",
    "    sinkson=1,\n",
    "    sinkcount=100,\n",
    "    printblue=1,\n",
    "    markovian=1\n",
    "    )\n",
    "# get infected tracefile\n",
    "infected_tracefile = discretized_df[discretized_df[\"SrcAddr\"] == infected_host_ip].rename(columns={'encoded': 'symb'})\n",
    "\n",
    "# create model from infected data\n",
    "flexfringe.fit(infected_tracefile)\n",
    "\n",
    "# showcase model\n",
    "# flexfringe.show()\n",
    "\n",
    "predict_df = flexfringe.predict(discretized_df[discretized_df[\"SrcAddr\"] == infected_host_ip2].rename(columns={'encoded': 'symb'}))\n"
   ]
  },
  {
   "cell_type": "code",
   "execution_count": 30,
   "metadata": {},
   "outputs": [],
   "source": [
    "def evaluate_szenario(discretized_df, return_profiles=False):\n",
    "    hosts = discretized_df.groupby([\"SrcAddr\"]).size().reset_index().rename(columns={0:'count'}).sort_values(by=\"count\", ascending=False)\n",
    "    hosts = hosts[hosts[\"count\"] > 1]\n",
    "\n",
    "    # if infected_host_ip not in hosts[\"SrcAddr\"].values:\n",
    "    #     hosts = pd.concat([hosts, pd.DataFrame({\"count\": 0, \"SrcAddr\":infected_host_ip}, index=[0])], ignore_index=True)\n",
    "\n",
    "    flexfringe = FlexFringe(\n",
    "        flexfringe_path=path_flexfringe,\n",
    "        heuristic_name=\"alergia\",\n",
    "        data_name=\"alergia_data\",\n",
    "        slidingwindow=1, \n",
    "        swsize=15, \n",
    "        sinkson=1,\n",
    "        sinkcount=100,\n",
    "        printblue=1,\n",
    "        markovian=1\n",
    "        )\n",
    "\n",
    "    table = []\n",
    "\n",
    "    for i, host in enumerate(hosts[\"SrcAddr\"]):\n",
    "        row = defaultdict()\n",
    "        df = discretized_df[discretized_df[\"SrcAddr\"] == host].rename(columns={'encoded': 'symb'})\n",
    "        flexfringe.fit(df)\n",
    "\n",
    "        with open(flexfringe.json_out, 'r') as json_file:\n",
    "            model_json = json.load(json_file)\n",
    "            nodes = model_json[\"nodes\"]\n",
    "            for node in nodes:\n",
    "                if \"trans_counts\" not in node[\"data\"].keys():\n",
    "                    continue\n",
    "                for symbol in node[\"data\"][\"trans_counts\"]:\n",
    "                    column = str(node['id'])+'-'+str(symbol)\n",
    "                    row[column] = int(node[\"data\"][\"trans_counts\"][symbol])\n",
    "\n",
    "        table.append(row)\n",
    "\n",
    "    unique_state_symbols = set()\n",
    "    for row in table:\n",
    "        for key in row.keys():\n",
    "            unique_state_symbols.add(key)\n",
    "\n",
    "    state_symbol_count_df = pd.DataFrame(np.zeros((len(hosts), len(unique_state_symbols))), columns=list(unique_state_symbols), index=hosts[\"SrcAddr\"].values)\n",
    "    for i in range(len(hosts)):\n",
    "        state_symbol_count_df.iloc[i] = [table[i].get(x, 0) for x in unique_state_symbols]\n",
    "\n",
    "    state_symbol_count_df = state_symbol_count_df.astype(int)\n",
    "    if return_profiles:\n",
    "        return state_symbol_count_df\n",
    "\n",
    "    # compute distances to other hosts\n",
    "    infected_profile = state_symbol_count_df.loc[infected_host_ip].values.reshape(1, -1)\n",
    "    threshold = 0.005\n",
    "    count = 0\n",
    "    tp, tn, fp, fn = 0, 0, 0, 0\n",
    "\n",
    "    for i in range(len(hosts)):\n",
    "        distance = cosine_similarity(infected_profile, state_symbol_count_df.iloc[i].values.reshape(1, -1))[0]\n",
    "        pred_label = \"botnet\" if distance > threshold else \"normal\"\n",
    "        label = discretized_df[discretized_df[\"SrcAddr\"] == hosts.iloc[i][\"SrcAddr\"]][\"Label\"].iloc[0]\n",
    "\n",
    "        if pred_label == label:\n",
    "            count += 1\n",
    "\n",
    "        if label == \"botnet\" and pred_label == \"botnet\":\n",
    "            tp += 1\n",
    "        elif label == \"botnet\" and pred_label == \"normal\":\n",
    "            fp += 1\n",
    "        elif label == \"normal\" and pred_label == \"normal\":\n",
    "            tn += 1\n",
    "        elif label == \"normal\" and pred_label == \"botnet\":\n",
    "            fn += 1\n",
    "\n",
    "    if (tp+fn) > 0:\n",
    "        recall = tp / (tp + fn)\n",
    "    else: \n",
    "        recall = -1\n",
    "    if (tp +fp) > 0:\n",
    "        precision = tp / (tp + fp)\n",
    "    else:\n",
    "        precision = -1\n",
    "    print(f\"Accuracy:       {count/len(hosts)}\")\n",
    "    print(f\"Precision:      {precision}\")\n",
    "    print(f\"Recall:         {recall}\\n\")\n",
    "\n",
    "    print(f\"False Positive: {fp}\")\n",
    "    print(f\"False Negative: {fn}\")\n",
    "    print(f\"True Positive:  {tp}\")\n",
    "    print(f\"True Negative:  {tn}\")\n",
    "    "
   ]
  },
  {
   "cell_type": "code",
   "execution_count": 148,
   "metadata": {},
   "outputs": [
    {
     "data": {
      "image/png": "[encoded data removed]",
      "text/plain": [
       "<Figure size 640x480 with 1 Axes>"
      ]
     },
     "metadata": {},
     "output_type": "display_data"
    }
   ],
   "source": [
    "expected_count_df = evaluate_szenario(discretized_df[discretized_df[\"SrcAddr\"] == infected_host_ip], return_profiles=True)\n",
    "ips = list(discretized_df[\"SrcAddr\"].unique()[:4]) + [infected_host_ip2]\n",
    "for ip in ips:\n",
    "    observed_count_df = evaluate_szenario(discretized_df[discretized_df[\"SrcAddr\"] == ip], return_profiles=True)\n",
    "    state_intersect = list(set(expected_count_df.columns).intersection(set(observed_count_df)))\n",
    "    plt.plot(expected_count_df[state_intersect].iloc[0], observed_count_df[state_intersect].iloc[0],'o', label=ip)\n",
    "\n",
    "plt.legend()\n",
    "plt.title(\"True/False positive scatter plot\")\n",
    "plt.xlabel(\"Observed counts\")\n",
    "plt.ylabel(\"Expected counts\")\n",
    "plt.show()"
   ]
  },
  {
   "cell_type": "code",
   "execution_count": 149,
   "metadata": {},
   "outputs": [
    {
     "name": "stdout",
     "output_type": "stream",
     "text": [
      "------------Szenario:9------------\n",
      "Accuracy:       0.4\n",
      "Precision:      1.0\n",
      "Recall:         0.35714285714285715\n",
      "\n",
      "False Positive: 0\n",
      "False Negative: 18\n",
      "True Positive:  10\n",
      "True Negative:  2\n",
      "-------------------------\n",
      "------------Szenario:10------------\n",
      "Accuracy:       0.47368421052631576\n",
      "Precision:      1.0\n",
      "Recall:         0.47368421052631576\n",
      "\n",
      "False Positive: 0\n",
      "False Negative: 10\n",
      "True Positive:  9\n",
      "True Negative:  0\n",
      "-------------------------\n",
      "------------Szenario:11------------\n",
      "Accuracy:       0.7142857142857143\n",
      "Precision:      0.6666666666666666\n",
      "Recall:         0.6666666666666666\n",
      "\n",
      "False Positive: 1\n",
      "False Negative: 1\n",
      "True Positive:  2\n",
      "True Negative:  3\n",
      "-------------------------\n",
      "------------Szenario:12------------\n",
      "Accuracy:       0.47368421052631576\n",
      "Precision:      1.0\n",
      "Recall:         0.47368421052631576\n",
      "\n",
      "False Positive: 0\n",
      "False Negative: 10\n",
      "True Positive:  9\n",
      "True Negative:  0\n",
      "-------------------------\n"
     ]
    }
   ],
   "source": [
    "# calculate statistics on all szenarios\n",
    "szenario_data = [data_9, data, data_11, data_12]\n",
    "for data, szenario in zip(szenario_data, range(9, 13)):\n",
    "    print(\"-\"*12+\"Szenario: \"+str(szenario)+\"-\"*12)\n",
    "    processed = preprocess_data(data)\n",
    "    discretized_data = encode_feature_pair(processed)\n",
    "    evaluate_szenario(discretized_data)\n",
    "    print(\"-\"*25)"
   ]
  },
  {
   "attachments": {},
   "cell_type": "markdown",
   "metadata": {},
   "source": [
    "### 4b. Analysis and answers to the questions."
   ]
  },
  {
   "cell_type": "code",
   "execution_count": null,
   "metadata": {},
   "outputs": [],
   "source": []
  },
  {
   "cell_type": "code",
   "execution_count": null,
   "metadata": {},
   "outputs": [],
   "source": []
  },
  {
   "attachments": {},
   "cell_type": "markdown",
   "metadata": {},
   "source": [
    "## 5. Bonus Task 1/2 A4 (5 Points)"
   ]
  },
  {
   "attachments": {},
   "cell_type": "markdown",
   "metadata": {},
   "source": [
    "### 5a. Provide implementation and analysis."
   ]
  },
  {
   "cell_type": "code",
   "execution_count": null,
   "metadata": {},
   "outputs": [],
   "source": []
  }
 ],
 "metadata": {
  "kernelspec": {
   "display_name": "Python 3 (ipykernel)",
   "language": "python",
   "name": "python3"
  },
  "language_info": {
   "codemirror_mode": {
    "name": "ipython",
    "version": 3
   },
   "file_extension": ".py",
   "mimetype": "text/x-python",
   "name": "python",
   "nbconvert_exporter": "python",
   "pygments_lexer": "ipython3",
   "version": "3.10.6"
  }
 },
 "nbformat": 4,
 "nbformat_minor": 2
}
