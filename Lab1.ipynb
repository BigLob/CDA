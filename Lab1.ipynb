{
 "cells": [
  {
   "cell_type": "markdown",
   "metadata": {},
   "source": [
    "# CS4035 - Cyber Data Analytics\n",
    "## Lab 1 - Fraud data"
   ]
  },
  {
   "cell_type": "markdown",
   "metadata": {},
   "source": [
    "### Submit on brightspace (zip file with the name Group_xx.zip)\n",
    "(i) This jupyter file completed with code, plots, figures and report for each question. Additional plots and figures can be created for explanation before the end of each main question. Lab 1 contains 5 main questions, including the bonus. Write the code or explanation below each sub question. For the explanations, include what you would normally include in the report for this lab assignment, for example data pre-processing, hypothesis tested, approach, results, etc.\n",
    "(ii) The libraries needed to run this file. Except for numpy, scikit-learn, pandas, matplotlib\n",
    "\n",
    "Your peers should be able to use the readme section for instructions and be able to run this file. \n",
    "\n",
    "Make sure to keep your answers concise. Maximum number of words is 1000, which you can count with the code below. (You can add around 600 words since we start at around 400)."
   ]
  },
  {
   "cell_type": "code",
   "execution_count": 2,
   "metadata": {},
   "outputs": [
    {
     "name": "stderr",
     "output_type": "stream",
     "text": [
      "/home/raphael/.local/lib/python3.6/site-packages/IPython/nbformat.py:13: ShimWarning: The `IPython.nbformat` package has been deprecated since IPython 4.0. You should import from nbformat instead.\n",
      "  \"You should import from nbformat instead.\", ShimWarning)\n"
     ]
    },
    {
     "name": "stdout",
     "output_type": "stream",
     "text": [
      "Word count: 373\n"
     ]
    }
   ],
   "source": [
    "# If this cell does not work try running `pip install nbformat`\n",
    "\n",
    "import io\n",
    "from IPython import nbformat\n",
    "\n",
    "nb = nbformat.read(\"Lab1-2021.ipynb\", nbformat.NO_CONVERT)\n",
    "word_count = 0\n",
    "for cell in nb.cells:\n",
    "    if cell.cell_type == \"markdown\":\n",
    "        word_count += len(cell['source'].replace('#', '').lstrip().split(' '))\n",
    "\n",
    "print(\"Word count:\", word_count)"
   ]
  },
  {
   "cell_type": "markdown",
   "metadata": {},
   "source": [
    "## Group Number :"
   ]
  },
  {
   "attachments": {},
   "cell_type": "markdown",
   "metadata": {},
   "source": [
    "## Student 1 \n",
    "### Name : Yuan Tian\n",
    "### ID :"
   ]
  },
  {
   "attachments": {},
   "cell_type": "markdown",
   "metadata": {},
   "source": [
    "## Student 2\n",
    "### Name : Raphael Frühwirth\n",
    "### ID : 5897297"
   ]
  },
  {
   "cell_type": "markdown",
   "metadata": {},
   "source": [
    "## Readme - Provide instructions - libraries used, location of the data file, etc. Keep it short. Remember your peers will not debug your code and should be able to reproduce the exact output you provide."
   ]
  },
  {
   "cell_type": "code",
   "execution_count": 23,
   "metadata": {},
   "outputs": [],
   "source": [
    "import pandas as pd\n",
    "\n",
    "def process_df(df):\n",
    "  exchange_rates = {\n",
    "        'USD': 1.0,\n",
    "        'GBP': 1.42,\n",
    "        'AUD': 0.73,\n",
    "        'SEK': 0.12,\n",
    "        'MXN': 0.049,\n",
    "        'NZD': 0.65\n",
    "        }\n",
    "\n",
    "  def normalize_amount(row):\n",
    "      currency_code = row['currencycode']\n",
    "      amount = row['amount']\n",
    "      exchange_rate = exchange_rates[currency_code]\n",
    "      return amount * exchange_rate\n",
    "\n",
    "  df['amount'] = df.apply(normalize_amount, axis=1)\n",
    "  df['accountcode'] = df['accountcode'].astype('category').cat.codes\n",
    "  df['txvariantcode'] = df['txvariantcode'].astype('category').cat.codes\n",
    "  df['issuercountrycode'] = df['issuercountrycode'].astype('category').cat.codes\n",
    "  df['currencycode'] = df['currencycode'].astype('category').cat.codes\n",
    "  df['shoppercountrycode'] = df['shoppercountrycode'].astype('category').cat.codes\n",
    "  df['shopperinteraction'] = df['shopperinteraction'].astype('category').cat.codes\n",
    "  df['cardverificationcodesupplied'] = df['cardverificationcodesupplied'].astype('category').cat.codes\n",
    "\n",
    "  df['mail_id'] = df['mail_id'].astype('category').cat.codes\n",
    "  df['ip_id'] = df['ip_id'].astype('category').cat.codes\n",
    "  df['card_id'] = df['card_id'].astype('category').cat.codes\n",
    "\n",
    "  df.to_csv(\"cda-lab-1-credit-card-fraud/processed.csv\", index=False)\n",
    "  \n",
    "  return df"
   ]
  },
  {
   "cell_type": "markdown",
   "metadata": {},
   "source": [
    "## 1. Visualization task – 1 A4"
   ]
  },
  {
   "cell_type": "markdown",
   "metadata": {},
   "source": [
    "### 1a. Plot visulations "
   ]
  },
  {
   "cell_type": "code",
   "execution_count": 2,
   "metadata": {},
   "outputs": [
    {
     "data": {
      "image/png": "[encoded data removed]",
      "text/plain": [
       "<Figure size 432x288 with 1 Axes>"
      ]
     },
     "metadata": {
      "needs_background": "light"
     },
     "output_type": "display_data"
    }
   ],
   "source": [
    "import matplotlib.pyplot as plt\n",
    "import numpy as np\n",
    "import seaborn as sns\n",
    "\n",
    "df = pd.read_csv(\"cda-lab-1-credit-card-fraud/train_data.csv\")\n",
    "index = \"accountcode\"\n",
    "top = 5\n",
    "transactions = df[index].value_counts()[:top]\n",
    "frauds = df.groupby(index)['label'].sum()\n",
    "\n",
    "df['label'] = df['label'].replace({0: 1, 1: 0})\n",
    "benign = df.groupby(index)['label'].sum()\n",
    "\n",
    "frauds = (100. * frauds / frauds.sum()).round(1)\n",
    "transactions = (100. * transactions / transactions.sum()).round(1)\n",
    "benign = (100. * benign/benign.sum()).round(1)\n",
    "\n",
    "df_viz = pd.DataFrame({\"Benign\": benign, \"Fraud\": frauds}, index=df[index].unique()[:top])\n",
    "ax = df_viz.plot.bar(rot=0, color=[\"blue\", \"darkred\"])\n",
    "plt.ylabel(\"Percentage\")\n",
    "plt.title(f\"Fraud/Non-Fraud by {index}\")\n",
    "plt.savefig(f\"figures/figure_{index}.png\", transparent=False, format=\"png\", facecolor=\"white\")\n"
   ]
  },
  {
   "cell_type": "code",
   "execution_count": 26,
   "metadata": {},
   "outputs": [
    {
     "name": "stdout",
     "output_type": "stream",
     "text": [
      "   Id  issuercountrycode  txvariantcode       bin   amount  currencycode  \\\n",
      "0   1                 38              2  546097.0   6390.0             1   \n",
      "1   2                 38              3  557349.0   4820.9             1   \n",
      "2   3                 38              2  542011.0   5530.9             1   \n",
      "3   4                 38              8  465943.0  21789.9             1   \n",
      "4   6                 38              8  475127.0   7234.9             1   \n",
      "\n",
      "   shoppercountrycode  shopperinteraction  cardverificationcodesupplied  \\\n",
      "0                  46                   1                             1   \n",
      "1                  46                   1                             1   \n",
      "2                  46                   1                             1   \n",
      "3                  46                   0                             0   \n",
      "4                  46                   1                             1   \n",
      "\n",
      "   cvcresponsecode  accountcode  mail_id   ip_id  card_id  label  \n",
      "0                1            3    17805   12538   105460      0  \n",
      "1                1            3   115620  107432    29882      0  \n",
      "2                1            3    84651   87293   123743      0  \n",
      "3                0            3    99845  147089    14712      0  \n",
      "4                1            3   122624   56390    75841      0  \n"
     ]
    },
    {
     "data": {
      "text/plain": [
       "<AxesSubplot:>"
      ]
     },
     "execution_count": 26,
     "metadata": {},
     "output_type": "execute_result"
    },
    {
     "data": {
      "image/png": "[encoded data removed]",
      "text/plain": [
       "<Figure size 432x288 with 2 Axes>"
      ]
     },
     "metadata": {
      "needs_background": "light"
     },
     "output_type": "display_data"
    }
   ],
   "source": [
    "df = pd.read_csv(\"cda-lab-1-credit-card-fraud/train_data.csv\")\n",
    "df = process_df(df)\n",
    "print(df.head())\n",
    "num = len(df[df[\"label\"]==1])\n",
    "non_fraud = df[df[\"label\"] == 0].sample(num, random_state=12)\n",
    "fraud = df[df[\"label\"] == 1].sample(num, random_state=12)\n",
    "\n",
    "corr_mat = pd.concat([non_fraud, fraud]).corr()\n",
    "sns.heatmap(corr_mat)"
   ]
  },
  {
   "cell_type": "markdown",
   "metadata": {},
   "source": [
    "### 1b. Describe the visualizations and provide relavant explanations of features and relations."
   ]
  },
  {
   "cell_type": "markdown",
   "metadata": {},
   "source": [
    "## 2. Imbalance task – 1 A4 – Individual"
   ]
  },
  {
   "cell_type": "markdown",
   "metadata": {},
   "source": [
    "### 2a. Print ROC curves"
   ]
  },
  {
   "cell_type": "markdown",
   "metadata": {},
   "source": [
    "### 2b. Analyse the performance of the classifiers. Explain which method performs best."
   ]
  },
  {
   "cell_type": "code",
   "execution_count": null,
   "metadata": {},
   "outputs": [],
   "source": []
  },
  {
   "cell_type": "markdown",
   "metadata": {},
   "source": [
    "### 2c. Is using SMOTE a good idea? Why (not)?"
   ]
  },
  {
   "cell_type": "code",
   "execution_count": null,
   "metadata": {},
   "outputs": [],
   "source": []
  },
  {
   "cell_type": "markdown",
   "metadata": {},
   "source": [
    "## 3. Privacy task – 1 A4 – Individual"
   ]
  },
  {
   "cell_type": "markdown",
   "metadata": {},
   "source": [
    "### 3a. Print ROC curves"
   ]
  },
  {
   "cell_type": "code",
   "execution_count": null,
   "metadata": {},
   "outputs": [],
   "source": []
  },
  {
   "cell_type": "markdown",
   "metadata": {},
   "source": [
    "### 3b. Analyse the performance of the classifiers. Explain which method performs best."
   ]
  },
  {
   "cell_type": "code",
   "execution_count": null,
   "metadata": {},
   "outputs": [],
   "source": []
  },
  {
   "cell_type": "markdown",
   "metadata": {},
   "source": [
    "### 3c. Can you explain the performance difference for the different classifiers? Is it advisable to protect people’s privacy using rank-swapping? Why (not)?"
   ]
  },
  {
   "cell_type": "code",
   "execution_count": null,
   "metadata": {},
   "outputs": [],
   "source": []
  },
  {
   "cell_type": "markdown",
   "metadata": {},
   "source": [
    "## 4. Classification task – 2 A4"
   ]
  },
  {
   "cell_type": "markdown",
   "metadata": {},
   "source": [
    "### 4a. Print relevant plots and metrics with clear headings."
   ]
  },
  {
   "cell_type": "code",
   "execution_count": null,
   "metadata": {},
   "outputs": [],
   "source": []
  },
  {
   "cell_type": "markdown",
   "metadata": {},
   "source": [
    "### 4b. Explain the applied data pre-processing steps, learning algorithms, and post-processing steps or ensemble methods. Compare the performance of the two algorithms, focusing on performance criteria that are relevant in practice, use 10-fold cross-validation."
   ]
  },
  {
   "cell_type": "code",
   "execution_count": null,
   "metadata": {},
   "outputs": [],
   "source": []
  },
  {
   "cell_type": "markdown",
   "metadata": {},
   "source": [
    "## 5. Bonus task – 1 A4"
   ]
  },
  {
   "cell_type": "markdown",
   "metadata": {},
   "source": []
  },
  {
   "cell_type": "markdown",
   "metadata": {},
   "source": [
    "### 5a. Provide code and report below"
   ]
  },
  {
   "cell_type": "code",
   "execution_count": null,
   "metadata": {},
   "outputs": [],
   "source": []
  }
 ],
 "metadata": {
  "kernelspec": {
   "display_name": "Python 3",
   "language": "python",
   "name": "python3"
  },
  "language_info": {
   "codemirror_mode": {
    "name": "ipython",
    "version": 3
   },
   "file_extension": ".py",
   "mimetype": "text/x-python",
   "name": "python",
   "nbconvert_exporter": "python",
   "pygments_lexer": "ipython3",
   "version": "3.6.9"
  },
  "vscode": {
   "interpreter": {
    "hash": "31f2aee4e71d21fbe5cf8b01ff0e069b9275f58929596ceb00d14d90e3e16cd6"
   }
  }
 },
 "nbformat": 4,
 "nbformat_minor": 2
}
