{
 "cells": [
  {
   "cell_type": "markdown",
   "metadata": {},
   "source": [
    "# CS4035 - Cyber Data Analytics\n",
    "## Lab 1 - Fraud data"
   ]
  },
  {
   "cell_type": "markdown",
   "metadata": {},
   "source": [
    "### Submit on brightspace (zip file with the name Group_xx.zip)\n",
    "(i) This jupyter file completed with code, plots, figures and report for each question. Additional plots and figures can be created for explanation before the end of each main question. Lab 1 contains 5 main questions, including the bonus. Write the code or explanation below each sub question. For the explanations, include what you would normally include in the report for this lab assignment, for example data pre-processing, hypothesis tested, approach, results, etc.\n",
    "(ii) The libraries needed to run this file. Except for numpy, scikit-learn, pandas, matplotlib\n",
    "\n",
    "Your peers should be able to use the readme section for instructions and be able to run this file. \n",
    "\n",
    "Make sure to keep your answers concise. Maximum number of words is 1000, which you can count with the code below. (You can add around 600 words since we start at around 400)."
   ]
  },
  {
   "cell_type": "code",
   "execution_count": 166,
   "metadata": {},
   "outputs": [
    {
     "name": "stdout",
     "output_type": "stream",
     "text": [
      "Word count: 374\n"
     ]
    },
    {
     "name": "stderr",
     "output_type": "stream",
     "text": [
      "/home/raphael/.local/lib/python3.6/site-packages/IPython/nbformat.py:13: ShimWarning: The `IPython.nbformat` package has been deprecated since IPython 4.0. You should import from nbformat instead.\n",
      "  \"You should import from nbformat instead.\", ShimWarning)\n"
     ]
    }
   ],
   "source": [
    "# If this cell does not work try running `pip install nbformat`\n",
    "\n",
    "import io\n",
    "from IPython import nbformat\n",
    "\n",
    "nb = nbformat.read(\"Lab1-2021.ipynb\", nbformat.NO_CONVERT)\n",
    "word_count = 0\n",
    "for cell in nb.cells:\n",
    "    if cell.cell_type == \"markdown\":\n",
    "        word_count += len(cell['source'].replace('#', '').lstrip().split(' '))\n",
    "\n",
    "print(\"Word count:\", word_count)"
   ]
  },
  {
   "cell_type": "markdown",
   "metadata": {},
   "source": [
    "## Group Number :"
   ]
  },
  {
   "attachments": {},
   "cell_type": "markdown",
   "metadata": {},
   "source": [
    "## Student 1 \n",
    "### Name : Yuan Tian\n",
    "### ID :"
   ]
  },
  {
   "attachments": {},
   "cell_type": "markdown",
   "metadata": {},
   "source": [
    "## Student 2\n",
    "### Name : Raphael Frühwirth\n",
    "### ID : 5897297"
   ]
  },
  {
   "cell_type": "markdown",
   "metadata": {},
   "source": [
    "## Readme - Provide instructions - libraries used, location of the data file, etc. Keep it short. Remember your peers will not debug your code and should be able to reproduce the exact output you provide."
   ]
  },
  {
   "cell_type": "code",
   "execution_count": null,
   "metadata": {},
   "outputs": [],
   "source": []
  },
  {
   "cell_type": "markdown",
   "metadata": {},
   "source": [
    "## 1. Visualization task – 1 A4"
   ]
  },
  {
   "cell_type": "markdown",
   "metadata": {},
   "source": [
    "### 1a. Plot visulations "
   ]
  },
  {
   "cell_type": "code",
   "execution_count": 167,
   "metadata": {},
   "outputs": [
    {
     "ename": "FileNotFoundError",
     "evalue": "[Errno 2] No such file or directory: 'figures/figure_accountcode.png'",
     "output_type": "error",
     "traceback": [
      "\u001b[0;31m---------------------------------------------------------------------------\u001b[0m",
      "\u001b[0;31mFileNotFoundError\u001b[0m                         Traceback (most recent call last)",
      "\u001b[0;32m<ipython-input-167-23e9b4541da3>\u001b[0m in \u001b[0;36m<module>\u001b[0;34m\u001b[0m\n\u001b[1;32m     20\u001b[0m \u001b[0mplt\u001b[0m\u001b[0;34m.\u001b[0m\u001b[0mylabel\u001b[0m\u001b[0;34m(\u001b[0m\u001b[0;34m\"Percentage\"\u001b[0m\u001b[0;34m)\u001b[0m\u001b[0;34m\u001b[0m\u001b[0;34m\u001b[0m\u001b[0m\n\u001b[1;32m     21\u001b[0m \u001b[0mplt\u001b[0m\u001b[0;34m.\u001b[0m\u001b[0mtitle\u001b[0m\u001b[0;34m(\u001b[0m\u001b[0;34mf\"Fraud/Non-Fraud by {index}\"\u001b[0m\u001b[0;34m)\u001b[0m\u001b[0;34m\u001b[0m\u001b[0;34m\u001b[0m\u001b[0m\n\u001b[0;32m---> 22\u001b[0;31m \u001b[0mplt\u001b[0m\u001b[0;34m.\u001b[0m\u001b[0msavefig\u001b[0m\u001b[0;34m(\u001b[0m\u001b[0;34mf\"figures/figure_{index}.png\"\u001b[0m\u001b[0;34m,\u001b[0m \u001b[0mtransparent\u001b[0m\u001b[0;34m=\u001b[0m\u001b[0;32mFalse\u001b[0m\u001b[0;34m,\u001b[0m \u001b[0mformat\u001b[0m\u001b[0;34m=\u001b[0m\u001b[0;34m\"png\"\u001b[0m\u001b[0;34m,\u001b[0m \u001b[0mfacecolor\u001b[0m\u001b[0;34m=\u001b[0m\u001b[0;34m\"white\"\u001b[0m\u001b[0;34m)\u001b[0m\u001b[0;34m\u001b[0m\u001b[0;34m\u001b[0m\u001b[0m\n\u001b[0m",
      "\u001b[0;32m~/.local/lib/python3.6/site-packages/matplotlib/pyplot.py\u001b[0m in \u001b[0;36msavefig\u001b[0;34m(*args, **kwargs)\u001b[0m\n\u001b[1;32m    857\u001b[0m \u001b[0;32mdef\u001b[0m \u001b[0msavefig\u001b[0m\u001b[0;34m(\u001b[0m\u001b[0;34m*\u001b[0m\u001b[0margs\u001b[0m\u001b[0;34m,\u001b[0m \u001b[0;34m**\u001b[0m\u001b[0mkwargs\u001b[0m\u001b[0;34m)\u001b[0m\u001b[0;34m:\u001b[0m\u001b[0;34m\u001b[0m\u001b[0;34m\u001b[0m\u001b[0m\n\u001b[1;32m    858\u001b[0m     \u001b[0mfig\u001b[0m \u001b[0;34m=\u001b[0m \u001b[0mgcf\u001b[0m\u001b[0;34m(\u001b[0m\u001b[0;34m)\u001b[0m\u001b[0;34m\u001b[0m\u001b[0;34m\u001b[0m\u001b[0m\n\u001b[0;32m--> 859\u001b[0;31m     \u001b[0mres\u001b[0m \u001b[0;34m=\u001b[0m \u001b[0mfig\u001b[0m\u001b[0;34m.\u001b[0m\u001b[0msavefig\u001b[0m\u001b[0;34m(\u001b[0m\u001b[0;34m*\u001b[0m\u001b[0margs\u001b[0m\u001b[0;34m,\u001b[0m \u001b[0;34m**\u001b[0m\u001b[0mkwargs\u001b[0m\u001b[0;34m)\u001b[0m\u001b[0;34m\u001b[0m\u001b[0;34m\u001b[0m\u001b[0m\n\u001b[0m\u001b[1;32m    860\u001b[0m     \u001b[0mfig\u001b[0m\u001b[0;34m.\u001b[0m\u001b[0mcanvas\u001b[0m\u001b[0;34m.\u001b[0m\u001b[0mdraw_idle\u001b[0m\u001b[0;34m(\u001b[0m\u001b[0;34m)\u001b[0m   \u001b[0;31m# need this if 'transparent=True' to reset colors\u001b[0m\u001b[0;34m\u001b[0m\u001b[0;34m\u001b[0m\u001b[0m\n\u001b[1;32m    861\u001b[0m     \u001b[0;32mreturn\u001b[0m \u001b[0mres\u001b[0m\u001b[0;34m\u001b[0m\u001b[0;34m\u001b[0m\u001b[0m\n",
      "\u001b[0;32m~/.local/lib/python3.6/site-packages/matplotlib/figure.py\u001b[0m in \u001b[0;36msavefig\u001b[0;34m(self, fname, transparent, **kwargs)\u001b[0m\n\u001b[1;32m   2309\u001b[0m                 \u001b[0mpatch\u001b[0m\u001b[0;34m.\u001b[0m\u001b[0mset_edgecolor\u001b[0m\u001b[0;34m(\u001b[0m\u001b[0;34m'none'\u001b[0m\u001b[0;34m)\u001b[0m\u001b[0;34m\u001b[0m\u001b[0;34m\u001b[0m\u001b[0m\n\u001b[1;32m   2310\u001b[0m \u001b[0;34m\u001b[0m\u001b[0m\n\u001b[0;32m-> 2311\u001b[0;31m         \u001b[0mself\u001b[0m\u001b[0;34m.\u001b[0m\u001b[0mcanvas\u001b[0m\u001b[0;34m.\u001b[0m\u001b[0mprint_figure\u001b[0m\u001b[0;34m(\u001b[0m\u001b[0mfname\u001b[0m\u001b[0;34m,\u001b[0m \u001b[0;34m**\u001b[0m\u001b[0mkwargs\u001b[0m\u001b[0;34m)\u001b[0m\u001b[0;34m\u001b[0m\u001b[0;34m\u001b[0m\u001b[0m\n\u001b[0m\u001b[1;32m   2312\u001b[0m \u001b[0;34m\u001b[0m\u001b[0m\n\u001b[1;32m   2313\u001b[0m         \u001b[0;32mif\u001b[0m \u001b[0mtransparent\u001b[0m\u001b[0;34m:\u001b[0m\u001b[0;34m\u001b[0m\u001b[0;34m\u001b[0m\u001b[0m\n",
      "\u001b[0;32m~/.local/lib/python3.6/site-packages/matplotlib/backend_bases.py\u001b[0m in \u001b[0;36mprint_figure\u001b[0;34m(self, filename, dpi, facecolor, edgecolor, orientation, format, bbox_inches, pad_inches, bbox_extra_artists, backend, **kwargs)\u001b[0m\n\u001b[1;32m   2215\u001b[0m                     \u001b[0morientation\u001b[0m\u001b[0;34m=\u001b[0m\u001b[0morientation\u001b[0m\u001b[0;34m,\u001b[0m\u001b[0;34m\u001b[0m\u001b[0;34m\u001b[0m\u001b[0m\n\u001b[1;32m   2216\u001b[0m                     \u001b[0mbbox_inches_restore\u001b[0m\u001b[0;34m=\u001b[0m\u001b[0m_bbox_inches_restore\u001b[0m\u001b[0;34m,\u001b[0m\u001b[0;34m\u001b[0m\u001b[0;34m\u001b[0m\u001b[0m\n\u001b[0;32m-> 2217\u001b[0;31m                     **kwargs)\n\u001b[0m\u001b[1;32m   2218\u001b[0m             \u001b[0;32mfinally\u001b[0m\u001b[0;34m:\u001b[0m\u001b[0;34m\u001b[0m\u001b[0;34m\u001b[0m\u001b[0m\n\u001b[1;32m   2219\u001b[0m                 \u001b[0;32mif\u001b[0m \u001b[0mbbox_inches\u001b[0m \u001b[0;32mand\u001b[0m \u001b[0mrestore_bbox\u001b[0m\u001b[0;34m:\u001b[0m\u001b[0;34m\u001b[0m\u001b[0;34m\u001b[0m\u001b[0m\n",
      "\u001b[0;32m~/.local/lib/python3.6/site-packages/matplotlib/backend_bases.py\u001b[0m in \u001b[0;36mwrapper\u001b[0;34m(*args, **kwargs)\u001b[0m\n\u001b[1;32m   1637\u001b[0m             \u001b[0mkwargs\u001b[0m\u001b[0;34m.\u001b[0m\u001b[0mpop\u001b[0m\u001b[0;34m(\u001b[0m\u001b[0marg\u001b[0m\u001b[0;34m)\u001b[0m\u001b[0;34m\u001b[0m\u001b[0;34m\u001b[0m\u001b[0m\n\u001b[1;32m   1638\u001b[0m \u001b[0;34m\u001b[0m\u001b[0m\n\u001b[0;32m-> 1639\u001b[0;31m         \u001b[0;32mreturn\u001b[0m \u001b[0mfunc\u001b[0m\u001b[0;34m(\u001b[0m\u001b[0;34m*\u001b[0m\u001b[0margs\u001b[0m\u001b[0;34m,\u001b[0m \u001b[0;34m**\u001b[0m\u001b[0mkwargs\u001b[0m\u001b[0;34m)\u001b[0m\u001b[0;34m\u001b[0m\u001b[0;34m\u001b[0m\u001b[0m\n\u001b[0m\u001b[1;32m   1640\u001b[0m \u001b[0;34m\u001b[0m\u001b[0m\n\u001b[1;32m   1641\u001b[0m     \u001b[0;32mreturn\u001b[0m \u001b[0mwrapper\u001b[0m\u001b[0;34m\u001b[0m\u001b[0;34m\u001b[0m\u001b[0m\n",
      "\u001b[0;32m~/.local/lib/python3.6/site-packages/matplotlib/backends/backend_agg.py\u001b[0m in \u001b[0;36mprint_png\u001b[0;34m(self, filename_or_obj, metadata, pil_kwargs, *args)\u001b[0m\n\u001b[1;32m    510\u001b[0m         mpl.image.imsave(\n\u001b[1;32m    511\u001b[0m             \u001b[0mfilename_or_obj\u001b[0m\u001b[0;34m,\u001b[0m \u001b[0mself\u001b[0m\u001b[0;34m.\u001b[0m\u001b[0mbuffer_rgba\u001b[0m\u001b[0;34m(\u001b[0m\u001b[0;34m)\u001b[0m\u001b[0;34m,\u001b[0m \u001b[0mformat\u001b[0m\u001b[0;34m=\u001b[0m\u001b[0;34m\"png\"\u001b[0m\u001b[0;34m,\u001b[0m \u001b[0morigin\u001b[0m\u001b[0;34m=\u001b[0m\u001b[0;34m\"upper\"\u001b[0m\u001b[0;34m,\u001b[0m\u001b[0;34m\u001b[0m\u001b[0;34m\u001b[0m\u001b[0m\n\u001b[0;32m--> 512\u001b[0;31m             dpi=self.figure.dpi, metadata=metadata, pil_kwargs=pil_kwargs)\n\u001b[0m\u001b[1;32m    513\u001b[0m \u001b[0;34m\u001b[0m\u001b[0m\n\u001b[1;32m    514\u001b[0m     \u001b[0;32mdef\u001b[0m \u001b[0mprint_to_buffer\u001b[0m\u001b[0;34m(\u001b[0m\u001b[0mself\u001b[0m\u001b[0;34m)\u001b[0m\u001b[0;34m:\u001b[0m\u001b[0;34m\u001b[0m\u001b[0;34m\u001b[0m\u001b[0m\n",
      "\u001b[0;32m~/.local/lib/python3.6/site-packages/matplotlib/image.py\u001b[0m in \u001b[0;36mimsave\u001b[0;34m(fname, arr, vmin, vmax, cmap, format, origin, dpi, metadata, pil_kwargs)\u001b[0m\n\u001b[1;32m   1609\u001b[0m         \u001b[0mpil_kwargs\u001b[0m\u001b[0;34m.\u001b[0m\u001b[0msetdefault\u001b[0m\u001b[0;34m(\u001b[0m\u001b[0;34m\"format\"\u001b[0m\u001b[0;34m,\u001b[0m \u001b[0mformat\u001b[0m\u001b[0;34m)\u001b[0m\u001b[0;34m\u001b[0m\u001b[0;34m\u001b[0m\u001b[0m\n\u001b[1;32m   1610\u001b[0m         \u001b[0mpil_kwargs\u001b[0m\u001b[0;34m.\u001b[0m\u001b[0msetdefault\u001b[0m\u001b[0;34m(\u001b[0m\u001b[0;34m\"dpi\"\u001b[0m\u001b[0;34m,\u001b[0m \u001b[0;34m(\u001b[0m\u001b[0mdpi\u001b[0m\u001b[0;34m,\u001b[0m \u001b[0mdpi\u001b[0m\u001b[0;34m)\u001b[0m\u001b[0;34m)\u001b[0m\u001b[0;34m\u001b[0m\u001b[0;34m\u001b[0m\u001b[0m\n\u001b[0;32m-> 1611\u001b[0;31m         \u001b[0mimage\u001b[0m\u001b[0;34m.\u001b[0m\u001b[0msave\u001b[0m\u001b[0;34m(\u001b[0m\u001b[0mfname\u001b[0m\u001b[0;34m,\u001b[0m \u001b[0;34m**\u001b[0m\u001b[0mpil_kwargs\u001b[0m\u001b[0;34m)\u001b[0m\u001b[0;34m\u001b[0m\u001b[0;34m\u001b[0m\u001b[0m\n\u001b[0m\u001b[1;32m   1612\u001b[0m \u001b[0;34m\u001b[0m\u001b[0m\n\u001b[1;32m   1613\u001b[0m \u001b[0;34m\u001b[0m\u001b[0m\n",
      "\u001b[0;32m~/.local/lib/python3.6/site-packages/PIL/Image.py\u001b[0m in \u001b[0;36msave\u001b[0;34m(self, fp, format, **params)\u001b[0m\n\u001b[1;32m   2159\u001b[0m                 \u001b[0mfp\u001b[0m \u001b[0;34m=\u001b[0m \u001b[0mbuiltins\u001b[0m\u001b[0;34m.\u001b[0m\u001b[0mopen\u001b[0m\u001b[0;34m(\u001b[0m\u001b[0mfilename\u001b[0m\u001b[0;34m,\u001b[0m \u001b[0;34m\"r+b\"\u001b[0m\u001b[0;34m)\u001b[0m\u001b[0;34m\u001b[0m\u001b[0;34m\u001b[0m\u001b[0m\n\u001b[1;32m   2160\u001b[0m             \u001b[0;32melse\u001b[0m\u001b[0;34m:\u001b[0m\u001b[0;34m\u001b[0m\u001b[0;34m\u001b[0m\u001b[0m\n\u001b[0;32m-> 2161\u001b[0;31m                 \u001b[0mfp\u001b[0m \u001b[0;34m=\u001b[0m \u001b[0mbuiltins\u001b[0m\u001b[0;34m.\u001b[0m\u001b[0mopen\u001b[0m\u001b[0;34m(\u001b[0m\u001b[0mfilename\u001b[0m\u001b[0;34m,\u001b[0m \u001b[0;34m\"w+b\"\u001b[0m\u001b[0;34m)\u001b[0m\u001b[0;34m\u001b[0m\u001b[0;34m\u001b[0m\u001b[0m\n\u001b[0m\u001b[1;32m   2162\u001b[0m \u001b[0;34m\u001b[0m\u001b[0m\n\u001b[1;32m   2163\u001b[0m         \u001b[0;32mtry\u001b[0m\u001b[0;34m:\u001b[0m\u001b[0;34m\u001b[0m\u001b[0;34m\u001b[0m\u001b[0m\n",
      "\u001b[0;31mFileNotFoundError\u001b[0m: [Errno 2] No such file or directory: 'figures/figure_accountcode.png'"
     ]
    },
    {
     "data": {
      "image/png": "[encoded data removed]",
      "text/plain": [
       "<Figure size 432x288 with 1 Axes>"
      ]
     },
     "metadata": {
      "needs_background": "light"
     },
     "output_type": "display_data"
    }
   ],
   "source": [
    "import matplotlib.pyplot as plt\n",
    "import pandas as pd\n",
    "import numpy as np\n",
    "df = pd.read_csv(\"cda-lab-1-credit-card-fraud/train_data.csv\")\n",
    "\n",
    "index = \"accountcode\"\n",
    "top = 5\n",
    "transactions = df[index].value_counts()[:top]\n",
    "frauds = df.groupby(index)['label'].sum()\n",
    "\n",
    "df['label'] = df['label'].replace({0: 1, 1: 0})\n",
    "benign = df.groupby(index)['label'].sum()\n",
    "\n",
    "frauds = (100. * frauds / frauds.sum()).round(1)\n",
    "transactions = (100. * transactions / transactions.sum()).round(1)\n",
    "benign = (100. * benign/benign.sum()).round(1)\n",
    "\n",
    "df_viz = pd.DataFrame({\"Benign\": benign, \"Fraud\": frauds}, index=df[index].unique()[:top])\n",
    "ax = df_viz.plot.bar(rot=0, color=[\"blue\", \"darkred\"])\n",
    "plt.ylabel(\"Percentage\")\n",
    "plt.title(f\"Fraud/Non-Fraud by {index}\")\n",
    "plt.savefig(f\"figures/figure_{index}.png\", transparent=False, format=\"png\", facecolor=\"white\")\n"
   ]
  },
  {
   "cell_type": "code",
   "execution_count": null,
   "metadata": {},
   "outputs": [
    {
     "data": {
      "text/plain": [
       "<AxesSubplot:title={'center':'Class Distribution'}, xlabel='label'>"
      ]
     },
     "execution_count": 7,
     "metadata": {},
     "output_type": "execute_result"
    },
    {
     "data": {
      "image/png": "[encoded data removed]",
      "text/plain": [
       "<Figure size 432x288 with 1 Axes>"
      ]
     },
     "metadata": {
      "needs_background": "light"
     },
     "output_type": "display_data"
    }
   ],
   "source": [
    "import pandas as pd \n",
    "\n",
    "train_data = pd.read_csv(\"cda-lab-1-credit-card-fraud/train_data.csv\")\n",
    "test_data = pd.read_csv(\"cda-lab-1-credit-card-fraud/test_data.csv\")\n",
    "\n",
    "#create pivot table to visualize the class distribution\n",
    "train_data_pivot = pd.pivot_table(train_data, index=\"label\", aggfunc=\"size\")\n",
    "train_data_pivot.plot(kind=\"bar\", title=\"Class Distribution\")\n"
   ]
  },
  {
   "cell_type": "code",
   "execution_count": null,
   "metadata": {},
   "outputs": [
    {
     "name": "stdout",
     "output_type": "stream",
     "text": [
      "Index(['MX', 'AU', 'GB', 'SE', 'NZ', 'FI'], dtype='object', name='issuercountrycode')\n"
     ]
    },
    {
     "data": {
      "image/png": "[encoded data removed]",
      "text/plain": [
       "<Figure size 432x288 with 2 Axes>"
      ]
     },
     "metadata": {
      "needs_background": "light"
     },
     "output_type": "display_data"
    }
   ],
   "source": [
    "import seaborn as sns\n",
    "\n",
    "df = pd.read_csv(\"cda-lab-1-credit-card-fraud/train_data.csv\")\n",
    "top = 6\n",
    "\n",
    "# df.loc[df['label'] == 0, 'label'] = 2  \n",
    "# df.loc[df['label'] == 1, 'label'] = 0\n",
    "# df.loc[df['label'] == 0, 'label'] = 1\n",
    "\n",
    "popular_countries = df.groupby(\"issuercountrycode\")[\"label\"].sum().sort_values(ascending=False)\n",
    "print(popular_countries[:top].index)\n",
    "\n",
    "df_filtered = df[(df[\"issuercountrycode\"].isin(popular_countries[:top].index) & df[\"shoppercountrycode\"].isin(popular_countries[:top].index))]\n",
    "\n",
    "x = df_filtered[\"issuercountrycode\"]\n",
    "y = df_filtered[\"shoppercountrycode\"]\n",
    "label = df_filtered[\"label\"]\n",
    "\n",
    "df_new = pd.DataFrame({'AccountCode': y, 'CVC': x, 'Score':label})\n",
    "\n",
    "df_heatmap = df_new.pivot_table(values='Score', index='AccountCode', columns='CVC', aggfunc=sum)\n",
    "sns.heatmap(df_heatmap, annot=True)\n",
    "plt.show()\n"
   ]
  },
  {
   "cell_type": "code",
   "execution_count": null,
   "metadata": {},
   "outputs": [],
   "source": []
  },
  {
   "cell_type": "code",
   "execution_count": null,
   "metadata": {},
   "outputs": [],
   "source": [
    "import pandas as pd\n",
    "\n",
    "def process_df(df):\n",
    "  exchange_rates = {\n",
    "        'USD': 1.0,\n",
    "        'GBP': 1.42,\n",
    "        'AUD': 0.73,\n",
    "        'SEK': 0.12,\n",
    "        'MXN': 0.049,\n",
    "        'NZD': 0.65\n",
    "        }\n",
    "\n",
    "  def normalize_amount(row):\n",
    "      currency_code = row['currencycode']\n",
    "      amount = row['amount']\n",
    "      exchange_rate = exchange_rates[currency_code]\n",
    "      return amount * exchange_rate\n",
    "\n",
    "  df['amount'] = df.apply(normalize_amount, axis=1)\n",
    "  df['accountcode'] = df['accountcode'].astype('category').cat.codes\n",
    "  df['txvariantcode'] = df['txvariantcode'].astype('category').cat.codes\n",
    "  df['issuercountrycode'] = df['issuercountrycode'].astype('category').cat.codes\n",
    "  df['currencycode'] = df['currencycode'].astype('category').cat.codes\n",
    "  df['shoppercountrycode'] = df['shoppercountrycode'].astype('category').cat.codes\n",
    "  df['shopperinteraction'] = df['shopperinteraction'].astype('category').cat.codes\n",
    "  df['cardverificationcodesupplied'] = df['cardverificationcodesupplied'].astype('category').cat.codes\n",
    "\n",
    "  df['mail_id'] = df['mail_id'].astype('category').cat.codes\n",
    "  df['ip_id'] = df['ip_id'].astype('category').cat.codes\n",
    "  df['card_id'] = df['card_id'].astype('category').cat.codes\n",
    "\n",
    "  df.to_csv(\"cda-lab-1-credit-card-fraud/processed.csv\", index=False)\n",
    "  \n",
    "  return df"
   ]
  },
  {
   "cell_type": "code",
   "execution_count": 169,
   "metadata": {},
   "outputs": [
    {
     "data": {
      "text/plain": [
       "<AxesSubplot:>"
      ]
     },
     "execution_count": 169,
     "metadata": {},
     "output_type": "execute_result"
    },
    {
     "data": {
      "image/png": "[encoded data removed]",
      "text/plain": [
       "<Figure size 432x288 with 2 Axes>"
      ]
     },
     "metadata": {
      "needs_background": "light"
     },
     "output_type": "display_data"
    }
   ],
   "source": [
    "df = pd.read_csv(\"cda-lab-1-credit-card-fraud/train_data.csv\")\n",
    "\n",
    "df = process_df(df)\n",
    "num = len(df[df[\"label\"]==1])\n",
    "non_fraud = df[df[\"label\"] == 0].sample(num, random_state=12)\n",
    "fraud = df[df[\"label\"] == 1].sample(num, random_state=12)\n",
    "\n",
    "non_fraud[\"card_id\"].replace(non_fraud[\"card_id\"].unique(), range(len(non_fraud[\"card_id\"].unique())),inplace=True)\n",
    "non_fraud[\"ip_id\"].replace(non_fraud[\"ip_id\"].unique(), range(len(non_fraud[\"ip_id\"].unique())),inplace=True)\n",
    "non_fraud[\"mail_id\"].replace(non_fraud[\"mail_id\"].unique(), range(len(non_fraud[\"mail_id\"].unique())),inplace=True)\n",
    "\n",
    "fraud[\"card_id\"].replace(fraud[\"card_id\"].unique(), range(len(fraud[\"card_id\"].unique())),inplace=True)\n",
    "fraud[\"ip_id\"].replace(fraud[\"ip_id\"].unique(), range(len(fraud[\"ip_id\"].unique())),inplace=True)\n",
    "fraud[\"mail_id\"].replace(fraud[\"mail_id\"].unique(), range(len(fraud[\"mail_id\"].unique())),inplace=True)\n",
    "\n",
    "corr_mat = pd.concat([non_fraud, fraud]).corr()\n",
    "sns.heatmap(corr_mat)\n"
   ]
  },
  {
   "cell_type": "code",
   "execution_count": 170,
   "metadata": {},
   "outputs": [
    {
     "data": {
      "image/png": "[encoded data removed]",
      "text/plain": [
       "<Figure size 432x288 with 1 Axes>"
      ]
     },
     "metadata": {
      "needs_background": "light"
     },
     "output_type": "display_data"
    }
   ],
   "source": [
    "feature = \"amount\"\n",
    "dic = {\"Fraud\": fraud[feature], \"NonFraud\": non_fraud[feature]}\n",
    "plt.boxplot(dic.values())\n",
    "plt.xticks(range(1, len(dic.keys())+1), dic.keys())\n",
    "plt.show()"
   ]
  },
  {
   "cell_type": "markdown",
   "metadata": {},
   "source": [
    "### 1b. Describe the visualizations and provide relavant explanations of features and relations."
   ]
  },
  {
   "cell_type": "code",
   "execution_count": null,
   "metadata": {},
   "outputs": [],
   "source": []
  },
  {
   "cell_type": "markdown",
   "metadata": {},
   "source": [
    "## 2. Imbalance task – 1 A4 – Individual"
   ]
  },
  {
   "cell_type": "markdown",
   "metadata": {},
   "source": [
    "### 2a. Print ROC curves"
   ]
  },
  {
   "cell_type": "code",
   "execution_count": 171,
   "metadata": {},
   "outputs": [],
   "source": [
    "from sklearn.neighbors import NearestNeighbors\n",
    "import pandas as pd\n",
    "def smote(df, k=3):\n",
    "    #features = [\"cvcresponsecode\", \"accountcode\", \"issuercountrycode\", \"amount\", \"txvariantcode\"]\n",
    "\n",
    "    minority_class = df[df[\"label\"] == 1]\n",
    "    smoted_points = []\n",
    "    knn = NearestNeighbors(n_neighbors=k).fit(minority_class.drop(\"label\", axis=1))\n",
    "    i = 0\n",
    "    while(len(smoted_points) < (len(df) - len(minority_class))):\n",
    "        if i == len(minority_class):\n",
    "            i = 0\n",
    "        distances, indices  = knn.kneighbors(minority_class.drop(\"label\", axis=1).iloc[i].values.reshape(1, -1), return_distance=True)\n",
    "        indices = indices[0][1:]\n",
    "        rand_index = np.random.choice(indices)\n",
    "        neighbor_row = minority_class.iloc[rand_index]\n",
    "        current_row = minority_class.iloc[i]\n",
    "\n",
    "        v = neighbor_row - current_row\n",
    "        new_row = current_row + np.random.uniform(0, 1) * v\n",
    "\n",
    "        # row = minority_class.iloc[i].copy()\n",
    "        # row.update(new_row[features])\n",
    "\n",
    "        smoted_points.append(new_row)\n",
    "\n",
    "        i += 1\n",
    "        #print(\"Curr:\", current_row)\n",
    "        #print(\"Neig:\", neighbor_row)\n",
    "        #print(\"V:\", v)\n",
    "        #print(\"NewRow:\", new_row)\n",
    "        #print(\"------\")\n",
    "\n",
    "    new_df = pd.DataFrame(smoted_points)\n",
    "    concatenated_df = pd.concat([new_df, minority_class], axis=0)\n",
    "    print(len(smoted_points))\n",
    "\n",
    "    # 1  features = [\"bin\", \"accountcode\", \"shoppercountrycode\", \"label\"]\n",
    "    # 2  features = [\"bin\", \"accountcode\", \"cvcresponsecode\"] \n",
    "    with open(\"cda-lab-1-credit-card-fraud/synthetic_train_full_with_ids.csv\", \"w\") as f:\n",
    "        new_df = pd.concat([concatenated_df, df])\n",
    "        new_df = new_df.sample(frac=1)\n",
    "        new_df.to_csv(f, index=False)\n",
    "    return new_df\n"
   ]
  },
  {
   "cell_type": "code",
   "execution_count": 175,
   "metadata": {},
   "outputs": [],
   "source": [
    "train_data = process_df(pd.read_csv(\"cda-lab-1-credit-card-fraud/train_data.csv\")).drop([\"mail_id\", \"ip_id\", \"card_id\"], axis=1)\n",
    "test_data = process_df(pd.read_csv(\"cda-lab-1-credit-card-fraud/test_data.csv\")).drop([\"mail_id\", \"ip_id\", \"card_id\"], axis=1)\n",
    "\n",
    "# train_data = process_df(pd.read_csv(\"cda-lab-1-credit-card-fraud/train_data.csv\"))\n",
    "# test_data = process_df(pd.read_csv(\"cda-lab-1-credit-card-fraud/test_data.csv\"))"
   ]
  },
  {
   "cell_type": "code",
   "execution_count": 176,
   "metadata": {},
   "outputs": [],
   "source": [
    "from sklearn.preprocessing import MinMaxScaler\n",
    "from sklearn.preprocessing import StandardScaler\n",
    "def scale(df, standardization=False):\n",
    "    if standardization:\n",
    "        scaler = StandardScaler()\n",
    "    else:\n",
    "        scaler = MinMaxScaler((0, 1))\n",
    "    c = df.columns\n",
    "    df = scaler.fit_transform(df)\n",
    "    df = pd.DataFrame(df,columns = c)\n",
    "    return df\n",
    "\n",
    "train_data_nonscaled = train_data.copy()\n",
    "train_data = scale(train_data.drop(\"label\", axis=1), standardization=True)\n",
    "#train_data = scale(train_data)\n",
    "train_data[\"label\"]  = train_data_nonscaled[\"label\"]\n",
    "# nonscaled_test = test_data.copy()\n",
    "# test_data = scale(test_data, standardization=True)\n"
   ]
  },
  {
   "cell_type": "code",
   "execution_count": 177,
   "metadata": {},
   "outputs": [],
   "source": [
    "import random\n",
    "\n",
    "def get_random_index(current_index, n_swapped_df, p):\n",
    "    left = max(0, current_index - int(p* n_swapped_df))\n",
    "    right = min(n_swapped_df-1, current_index + int(p*n_swapped_df))\n",
    "\n",
    "    random_index = random.randint(left,right)\n",
    "    return random_index\n",
    "\n",
    "# independently swapping\n",
    "def rank_swapping(swapped_df, features):\n",
    "    p = 0.1\n",
    "    swapped_df.reset_index(drop=True, inplace=True)\n",
    "    new_df = swapped_df.copy()\n",
    "    for feature in features:\n",
    "        sorted_df = swapped_df.sort_values(feature).reset_index()\n",
    "        for i, row in swapped_df.iterrows():\n",
    "            try:\n",
    "                current_index = sorted_df.index[sorted_df[feature]==swapped_df.iloc[i][feature]].tolist()[0]\n",
    "            except:\n",
    "                print(i, feature, len(sorted_df), len(swapped_df))\n",
    "            random_index = get_random_index(current_index,len(swapped_df), p)\n",
    "            new_df.loc[i, feature] = sorted_df.iloc[random_index][feature]\n",
    "\n",
    "    return new_df"
   ]
  },
  {
   "cell_type": "code",
   "execution_count": 178,
   "metadata": {},
   "outputs": [],
   "source": [
    "from sklearn.model_selection import train_test_split\n",
    "from sklearn.metrics import confusion_matrix, classification_report    \n",
    "from sklearn.linear_model import LogisticRegression\n",
    "from sklearn.ensemble import RandomForestClassifier, AdaBoostClassifier\n",
    "from sklearn.neural_network import MLPClassifier\n",
    "from imblearn.over_sampling import SMOTE\n",
    "from sklearn.gaussian_process import GaussianProcessClassifier\n",
    "from sklearn.gaussian_process.kernels import RBF\n",
    "\n",
    "columns = [\"issuercountrycode\", \"txvariantcode\"]\n",
    "#[\"issuercountrycode\",\"txvariantcode\",\"bin\",\"amount\",\"currencycode\",\"shoppercountrycode\",\"shopperinteraction\",\"cardverificationcodesupplied\",\"cvcresponsecode\",\"accountcode\"]\n",
    "train_data = train_data.drop(columns=columns)\n",
    "train, test = train_test_split(train_data, test_size=0.2, stratify=train_data[\"label\"], random_state=12)\n",
    "\n",
    "def test_model(classifier=LogisticRegression(), with_smote=False, use_test=False):\n",
    "    if with_smote:\n",
    "        print(\"Testing Model with SMOTEd data\")\n",
    "        # X_resampled, y_resampled = SMOTE(k_neighbors=5).fit_resample(train.drop([\"label\"], axis=1), train[\"label\"])\n",
    "        #smoted_data = smote(train_data)\n",
    "        smoted_data = pd.read_csv(\"cda-lab-1-credit-card-fraud/synthetic_train_full.csv\").drop(columns=columns)\n",
    "        smote_no_scale = smoted_data.copy()\n",
    "        smoted_data = scale(smoted_data, standardization=True)\n",
    "        smoted_data = scale(smoted_data)\n",
    "        smoted_data[\"label\"] = smote_no_scale[\"label\"]\n",
    "        smote_model = classifier\n",
    "\n",
    "        if use_test:\n",
    "            smote_model.fit(smoted_data.drop(\"label\", axis=1), smoted_data[\"label\"])\n",
    "            predictions = smote_model.predict(test_data)\n",
    "            pred_proba = smote_model.predict_proba(test_data)\n",
    "            return predictions, pred_proba\n",
    "        \n",
    "        smote_model.fit(smoted_data.drop(\"label\", axis=1), smoted_data[\"label\"])\n",
    "        predictions = smote_model.predict(test.drop(\"label\", axis=1))\n",
    "        pred_proba = smote_model.predict_proba(test.drop(\"label\", axis=1))\n",
    "\n",
    "    else:\n",
    "        print(\"Testing Model with regular data\")\n",
    "        model = classifier\n",
    "        model.fit(train.drop(\"label\", axis=1), train[\"label\"])\n",
    "        predictions = model.predict(test.drop(\"label\", axis=1))\n",
    "        pred_proba = model.predict_proba(test.drop(\"label\", axis=1))\n",
    "\n",
    "\n",
    "\n",
    "    tn, fp, fn, tp = confusion_matrix(test['label'], predictions).ravel()\n",
    "    print('True negatives: ', tn, '\\nFalse positives: ', fp, '\\nFalse negatives: ', fn, '\\nTrue Positives: ', tp)\n",
    "    print(classification_report(test[\"label\"], predictions, zero_division=0))\n",
    "    return predictions, pred_proba"
   ]
  },
  {
   "cell_type": "code",
   "execution_count": 179,
   "metadata": {},
   "outputs": [],
   "source": [
    "def plot_roc_curve(y_test, y_pred):\n",
    "    from sklearn.metrics import roc_curve, auc\n",
    "    import matplotlib.pyplot as plt\n",
    "\n",
    "    #plot roc curve\n",
    "    fpr, tpr, thresholds = roc_curve(y_test, y_pred)\n",
    "    roc_auc = auc(fpr, tpr)\n",
    "    plt.plot(fpr, tpr, label='ROC curve (area = %0.2f)' % roc_auc)\n",
    "    plt.xlabel('False Positive Rate')\n",
    "    plt.ylabel('True Positive Rate')\n",
    "    plt.title('ROC curve')\n",
    "    plt.legend(loc=\"lower right\")\n",
    "    plt.show()"
   ]
  },
  {
   "cell_type": "code",
   "execution_count": 180,
   "metadata": {},
   "outputs": [
    {
     "name": "stdout",
     "output_type": "stream",
     "text": [
      "Testing Model with regular data\n",
      "True negatives:  37868 \n",
      "False positives:  3 \n",
      "False negatives:  55 \n",
      "True Positives:  0\n",
      "              precision    recall  f1-score   support\n",
      "\n",
      "           0       1.00      1.00      1.00     37871\n",
      "           1       0.00      0.00      0.00        55\n",
      "\n",
      "    accuracy                           1.00     37926\n",
      "   macro avg       0.50      0.50      0.50     37926\n",
      "weighted avg       1.00      1.00      1.00     37926\n",
      "\n"
     ]
    },
    {
     "data": {
      "image/png": "[encoded data removed]",
      "text/plain": [
       "<Figure size 432x288 with 1 Axes>"
      ]
     },
     "metadata": {
      "needs_background": "light"
     },
     "output_type": "display_data"
    },
    {
     "data": {
      "text/html": [
       "<div>\n",
       "<style scoped>\n",
       "    .dataframe tbody tr th:only-of-type {\n",
       "        vertical-align: middle;\n",
       "    }\n",
       "\n",
       "    .dataframe tbody tr th {\n",
       "        vertical-align: top;\n",
       "    }\n",
       "\n",
       "    .dataframe thead th {\n",
       "        text-align: right;\n",
       "    }\n",
       "</style>\n",
       "<table border=\"1\" class=\"dataframe\">\n",
       "  <thead>\n",
       "    <tr style=\"text-align: right;\">\n",
       "      <th></th>\n",
       "      <th>Id</th>\n",
       "      <th>bin</th>\n",
       "      <th>amount</th>\n",
       "      <th>currencycode</th>\n",
       "      <th>shoppercountrycode</th>\n",
       "      <th>shopperinteraction</th>\n",
       "      <th>cardverificationcodesupplied</th>\n",
       "      <th>cvcresponsecode</th>\n",
       "      <th>accountcode</th>\n",
       "      <th>label</th>\n",
       "    </tr>\n",
       "  </thead>\n",
       "  <tbody>\n",
       "    <tr>\n",
       "      <th>count</th>\n",
       "      <td>151702.000000</td>\n",
       "      <td>151702.000000</td>\n",
       "      <td>151702.000000</td>\n",
       "      <td>151702.000000</td>\n",
       "      <td>151702.000000</td>\n",
       "      <td>151702.000000</td>\n",
       "      <td>151702.000000</td>\n",
       "      <td>151702.000000</td>\n",
       "      <td>151702.000000</td>\n",
       "      <td>151702.000000</td>\n",
       "    </tr>\n",
       "    <tr>\n",
       "      <th>mean</th>\n",
       "      <td>0.000059</td>\n",
       "      <td>-0.000458</td>\n",
       "      <td>-0.000130</td>\n",
       "      <td>-0.001428</td>\n",
       "      <td>-0.000837</td>\n",
       "      <td>-0.001087</td>\n",
       "      <td>-0.000298</td>\n",
       "      <td>-0.001193</td>\n",
       "      <td>-0.000651</td>\n",
       "      <td>0.001457</td>\n",
       "    </tr>\n",
       "    <tr>\n",
       "      <th>std</th>\n",
       "      <td>0.999786</td>\n",
       "      <td>0.999864</td>\n",
       "      <td>1.001061</td>\n",
       "      <td>0.998399</td>\n",
       "      <td>0.999715</td>\n",
       "      <td>1.002313</td>\n",
       "      <td>1.000253</td>\n",
       "      <td>1.001335</td>\n",
       "      <td>1.000902</td>\n",
       "      <td>0.038140</td>\n",
       "    </tr>\n",
       "    <tr>\n",
       "      <th>min</th>\n",
       "      <td>-1.730219</td>\n",
       "      <td>-2.369063</td>\n",
       "      <td>-1.102358</td>\n",
       "      <td>-1.306769</td>\n",
       "      <td>-1.957819</td>\n",
       "      <td>-5.642158</td>\n",
       "      <td>-3.845835</td>\n",
       "      <td>-2.065065</td>\n",
       "      <td>-2.458120</td>\n",
       "      <td>0.000000</td>\n",
       "    </tr>\n",
       "    <tr>\n",
       "      <th>25%</th>\n",
       "      <td>-0.866583</td>\n",
       "      <td>-0.560958</td>\n",
       "      <td>-0.522692</td>\n",
       "      <td>-0.235831</td>\n",
       "      <td>-0.210574</td>\n",
       "      <td>0.159932</td>\n",
       "      <td>0.294003</td>\n",
       "      <td>0.467378</td>\n",
       "      <td>0.502867</td>\n",
       "      <td>0.000000</td>\n",
       "    </tr>\n",
       "    <tr>\n",
       "      <th>50%</th>\n",
       "      <td>-0.000114</td>\n",
       "      <td>-0.277072</td>\n",
       "      <td>-0.158867</td>\n",
       "      <td>-0.235831</td>\n",
       "      <td>-0.210574</td>\n",
       "      <td>0.159932</td>\n",
       "      <td>0.294003</td>\n",
       "      <td>0.467378</td>\n",
       "      <td>0.502867</td>\n",
       "      <td>0.000000</td>\n",
       "    </tr>\n",
       "    <tr>\n",
       "      <th>75%</th>\n",
       "      <td>0.868597</td>\n",
       "      <td>0.935538</td>\n",
       "      <td>0.210587</td>\n",
       "      <td>-0.235831</td>\n",
       "      <td>-0.210574</td>\n",
       "      <td>0.159932</td>\n",
       "      <td>0.294003</td>\n",
       "      <td>0.467378</td>\n",
       "      <td>0.502867</td>\n",
       "      <td>0.000000</td>\n",
       "    </tr>\n",
       "    <tr>\n",
       "      <th>max</th>\n",
       "      <td>1.731072</td>\n",
       "      <td>2.076989</td>\n",
       "      <td>48.763023</td>\n",
       "      <td>2.976982</td>\n",
       "      <td>3.098039</td>\n",
       "      <td>5.962021</td>\n",
       "      <td>0.294003</td>\n",
       "      <td>10.597148</td>\n",
       "      <td>0.502867</td>\n",
       "      <td>1.000000</td>\n",
       "    </tr>\n",
       "  </tbody>\n",
       "</table>\n",
       "</div>"
      ],
      "text/plain": [
       "                  Id            bin         amount   currencycode  \\\n",
       "count  151702.000000  151702.000000  151702.000000  151702.000000   \n",
       "mean        0.000059      -0.000458      -0.000130      -0.001428   \n",
       "std         0.999786       0.999864       1.001061       0.998399   \n",
       "min        -1.730219      -2.369063      -1.102358      -1.306769   \n",
       "25%        -0.866583      -0.560958      -0.522692      -0.235831   \n",
       "50%        -0.000114      -0.277072      -0.158867      -0.235831   \n",
       "75%         0.868597       0.935538       0.210587      -0.235831   \n",
       "max         1.731072       2.076989      48.763023       2.976982   \n",
       "\n",
       "       shoppercountrycode  shopperinteraction  cardverificationcodesupplied  \\\n",
       "count       151702.000000       151702.000000                 151702.000000   \n",
       "mean            -0.000837           -0.001087                     -0.000298   \n",
       "std              0.999715            1.002313                      1.000253   \n",
       "min             -1.957819           -5.642158                     -3.845835   \n",
       "25%             -0.210574            0.159932                      0.294003   \n",
       "50%             -0.210574            0.159932                      0.294003   \n",
       "75%             -0.210574            0.159932                      0.294003   \n",
       "max              3.098039            5.962021                      0.294003   \n",
       "\n",
       "       cvcresponsecode    accountcode          label  \n",
       "count    151702.000000  151702.000000  151702.000000  \n",
       "mean         -0.001193      -0.000651       0.001457  \n",
       "std           1.001335       1.000902       0.038140  \n",
       "min          -2.065065      -2.458120       0.000000  \n",
       "25%           0.467378       0.502867       0.000000  \n",
       "50%           0.467378       0.502867       0.000000  \n",
       "75%           0.467378       0.502867       0.000000  \n",
       "max          10.597148       0.502867       1.000000  "
      ]
     },
     "execution_count": 180,
     "metadata": {},
     "output_type": "execute_result"
    }
   ],
   "source": [
    "predictions, probabilities = test_model()\n",
    "plot_roc_curve(test[\"label\"], probabilities[:,1])\n",
    "train.describe()\n"
   ]
  },
  {
   "cell_type": "code",
   "execution_count": 182,
   "metadata": {},
   "outputs": [
    {
     "name": "stdout",
     "output_type": "stream",
     "text": [
      "Testing Model with SMOTEd data\n",
      "True negatives:  24668 \n",
      "False positives:  13203 \n",
      "False negatives:  11 \n",
      "True Positives:  44\n",
      "              precision    recall  f1-score   support\n",
      "\n",
      "           0       1.00      0.65      0.79     37871\n",
      "           1       0.00      0.80      0.01        55\n",
      "\n",
      "    accuracy                           0.65     37926\n",
      "   macro avg       0.50      0.73      0.40     37926\n",
      "weighted avg       1.00      0.65      0.79     37926\n",
      "\n"
     ]
    },
    {
     "data": {
      "image/png": "[encoded data removed]",
      "text/plain": [
       "<Figure size 432x288 with 1 Axes>"
      ]
     },
     "metadata": {
      "needs_background": "light"
     },
     "output_type": "display_data"
    }
   ],
   "source": [
    "predictions, probabilities = test_model(with_smote=True)\n",
    "plot_roc_curve(test[\"label\"], probabilities[:,1])"
   ]
  },
  {
   "cell_type": "code",
   "execution_count": null,
   "metadata": {},
   "outputs": [
    {
     "name": "stdout",
     "output_type": "stream",
     "text": [
      "Testing Model with regular data\n",
      "True negatives:  37869 \n",
      "False positives:  2 \n",
      "False negatives:  55 \n",
      "True Positives:  0\n",
      "              precision    recall  f1-score   support\n",
      "\n",
      "           0       1.00      1.00      1.00     37871\n",
      "           1       0.00      0.00      0.00        55\n",
      "\n",
      "    accuracy                           1.00     37926\n",
      "   macro avg       0.50      0.50      0.50     37926\n",
      "weighted avg       1.00      1.00      1.00     37926\n",
      "\n"
     ]
    },
    {
     "data": {
      "image/png": "[encoded data removed]",
      "text/plain": [
       "<Figure size 432x288 with 1 Axes>"
      ]
     },
     "metadata": {
      "needs_background": "light"
     },
     "output_type": "display_data"
    }
   ],
   "source": [
    "predictions, probabilities = test_model(classifier=RandomForestClassifier() ,with_smote=False)\n",
    "plot_roc_curve(test[\"label\"], probabilities[:, 1])"
   ]
  },
  {
   "cell_type": "code",
   "execution_count": null,
   "metadata": {},
   "outputs": [
    {
     "name": "stdout",
     "output_type": "stream",
     "text": [
      "Testing Model with SMOTEd data\n",
      "True negatives:  37869 \n",
      "False positives:  2 \n",
      "False negatives:  55 \n",
      "True Positives:  0\n",
      "              precision    recall  f1-score   support\n",
      "\n",
      "           0       1.00      1.00      1.00     37871\n",
      "           1       0.00      0.00      0.00        55\n",
      "\n",
      "    accuracy                           1.00     37926\n",
      "   macro avg       0.50      0.50      0.50     37926\n",
      "weighted avg       1.00      1.00      1.00     37926\n",
      "\n"
     ]
    },
    {
     "data": {
      "image/png": "[encoded data removed]",
      "text/plain": [
       "<Figure size 432x288 with 1 Axes>"
      ]
     },
     "metadata": {
      "needs_background": "light"
     },
     "output_type": "display_data"
    }
   ],
   "source": [
    "predictions, probabilities = test_model(classifier=RandomForestClassifier(), with_smote=True)\n",
    "plot_roc_curve(test[\"label\"], probabilities[:, 1])"
   ]
  },
  {
   "cell_type": "code",
   "execution_count": null,
   "metadata": {},
   "outputs": [
    {
     "name": "stdout",
     "output_type": "stream",
     "text": [
      "Testing Model with regular data\n",
      "True negatives:  37861 \n",
      "False positives:  10 \n",
      "False negatives:  55 \n",
      "True Positives:  0\n",
      "              precision    recall  f1-score   support\n",
      "\n",
      "           0       1.00      1.00      1.00     37871\n",
      "           1       0.00      0.00      0.00        55\n",
      "\n",
      "    accuracy                           1.00     37926\n",
      "   macro avg       0.50      0.50      0.50     37926\n",
      "weighted avg       1.00      1.00      1.00     37926\n",
      "\n"
     ]
    },
    {
     "data": {
      "image/png": "[encoded data removed]",
      "text/plain": [
       "<Figure size 432x288 with 1 Axes>"
      ]
     },
     "metadata": {
      "needs_background": "light"
     },
     "output_type": "display_data"
    }
   ],
   "source": [
    "predictions, probabilities = test_model(classifier=AdaBoostClassifier(), with_smote=False)\n",
    "plot_roc_curve(test[\"label\"], probabilities[:, 1])"
   ]
  },
  {
   "cell_type": "code",
   "execution_count": null,
   "metadata": {},
   "outputs": [
    {
     "name": "stdout",
     "output_type": "stream",
     "text": [
      "Testing Model with SMOTEd data\n",
      "True negatives:  37078 \n",
      "False positives:  793 \n",
      "False negatives:  50 \n",
      "True Positives:  5\n",
      "              precision    recall  f1-score   support\n",
      "\n",
      "           0       1.00      0.98      0.99     37871\n",
      "           1       0.01      0.09      0.01        55\n",
      "\n",
      "    accuracy                           0.98     37926\n",
      "   macro avg       0.50      0.53      0.50     37926\n",
      "weighted avg       1.00      0.98      0.99     37926\n",
      "\n"
     ]
    },
    {
     "data": {
      "image/png": "[encoded data removed]",
      "text/plain": [
       "<Figure size 432x288 with 1 Axes>"
      ]
     },
     "metadata": {
      "needs_background": "light"
     },
     "output_type": "display_data"
    }
   ],
   "source": [
    "predictions, probabilities = test_model(classifier=AdaBoostClassifier(), with_smote=True, use_test=False)\n",
    "plot_roc_curve(test[\"label\"], probabilities[:, 1])\n",
    "\n",
    "# predictions = pd.DataFrame(predictions, columns=[\"Predicted\"])\n",
    "# print(len(test_data), len(predictions))\n",
    "\n",
    "\n",
    "# predictions[\"Id\"] = nonscaled_test[\"Id\"]\n",
    "# predictions[\"Predicted\"] = predictions[\"Predicted\"].astype(float)\n",
    "# predictions = predictions[[\"Id\", \"Predicted\"]]\n",
    "\n",
    "# predictions.to_csv(\"cda-lab-1-credit-card-fraud/submission.csv\", index=False)\n",
    "# predictions.head()"
   ]
  },
  {
   "cell_type": "code",
   "execution_count": null,
   "metadata": {},
   "outputs": [
    {
     "name": "stdout",
     "output_type": "stream",
     "text": [
      "Testing Model with regular data\n",
      "True negatives:  56806 \n",
      "False positives:  0 \n",
      "False negatives:  83 \n",
      "True Positives:  0\n",
      "              precision    recall  f1-score   support\n",
      "\n",
      "           0       1.00      1.00      1.00     56806\n",
      "           1       0.00      0.00      0.00        83\n",
      "\n",
      "    accuracy                           1.00     56889\n",
      "   macro avg       0.50      0.50      0.50     56889\n",
      "weighted avg       1.00      1.00      1.00     56889\n",
      "\n"
     ]
    },
    {
     "name": "stderr",
     "output_type": "stream",
     "text": [
      "/home/raphael/.local/lib/python3.6/site-packages/sklearn/metrics/_classification.py:1248: UndefinedMetricWarning: Precision and F-score are ill-defined and being set to 0.0 in labels with no predicted samples. Use `zero_division` parameter to control this behavior.\n",
      "  _warn_prf(average, modifier, msg_start, len(result))\n",
      "/home/raphael/.local/lib/python3.6/site-packages/sklearn/metrics/_classification.py:1248: UndefinedMetricWarning: Precision and F-score are ill-defined and being set to 0.0 in labels with no predicted samples. Use `zero_division` parameter to control this behavior.\n",
      "  _warn_prf(average, modifier, msg_start, len(result))\n",
      "/home/raphael/.local/lib/python3.6/site-packages/sklearn/metrics/_classification.py:1248: UndefinedMetricWarning: Precision and F-score are ill-defined and being set to 0.0 in labels with no predicted samples. Use `zero_division` parameter to control this behavior.\n",
      "  _warn_prf(average, modifier, msg_start, len(result))\n"
     ]
    },
    {
     "data": {
      "image/png": "[encoded data removed]",
      "text/plain": [
       "<Figure size 432x288 with 1 Axes>"
      ]
     },
     "metadata": {
      "needs_background": "light"
     },
     "output_type": "display_data"
    }
   ],
   "source": [
    "predictions = test_model(classifier=MLPClassifier(), with_smote=False)\n",
    "plot_roc_curve(test[\"label\"], predictions)"
   ]
  },
  {
   "cell_type": "code",
   "execution_count": null,
   "metadata": {},
   "outputs": [
    {
     "name": "stdout",
     "output_type": "stream",
     "text": [
      "Testing Model with SMOTEd data\n",
      "True negatives:  52496 \n",
      "False positives:  4310 \n",
      "False negatives:  18 \n",
      "True Positives:  65\n",
      "              precision    recall  f1-score   support\n",
      "\n",
      "           0       1.00      0.92      0.96     56806\n",
      "           1       0.01      0.78      0.03        83\n",
      "\n",
      "    accuracy                           0.92     56889\n",
      "   macro avg       0.51      0.85      0.49     56889\n",
      "weighted avg       1.00      0.92      0.96     56889\n",
      "\n"
     ]
    },
    {
     "data": {
      "image/png": "[encoded data removed]",
      "text/plain": [
       "<Figure size 432x288 with 1 Axes>"
      ]
     },
     "metadata": {
      "needs_background": "light"
     },
     "output_type": "display_data"
    }
   ],
   "source": [
    "predictions = test_model(classifier=MLPClassifier(), with_smote=True)\n",
    "plot_roc_curve(test[\"label\"], predictions)"
   ]
  },
  {
   "cell_type": "markdown",
   "metadata": {},
   "source": [
    "### 2b. Analyse the performance of the classifiers. Explain which method performs best."
   ]
  },
  {
   "cell_type": "code",
   "execution_count": null,
   "metadata": {},
   "outputs": [],
   "source": []
  },
  {
   "cell_type": "markdown",
   "metadata": {},
   "source": [
    "### 2c. Is using SMOTE a good idea? Why (not)?"
   ]
  },
  {
   "cell_type": "code",
   "execution_count": null,
   "metadata": {},
   "outputs": [],
   "source": []
  },
  {
   "cell_type": "markdown",
   "metadata": {},
   "source": [
    "## 3. Privacy task – 1 A4 – Individual"
   ]
  },
  {
   "cell_type": "markdown",
   "metadata": {},
   "source": [
    "### 3a. Print ROC curves"
   ]
  },
  {
   "cell_type": "code",
   "execution_count": null,
   "metadata": {},
   "outputs": [],
   "source": []
  },
  {
   "cell_type": "markdown",
   "metadata": {},
   "source": [
    "### 3b. Analyse the performance of the classifiers. Explain which method performs best."
   ]
  },
  {
   "cell_type": "code",
   "execution_count": null,
   "metadata": {},
   "outputs": [],
   "source": []
  },
  {
   "cell_type": "markdown",
   "metadata": {},
   "source": [
    "### 3c. Can you explain the performance difference for the different classifiers? Is it advisable to protect people’s privacy using rank-swapping? Why (not)?"
   ]
  },
  {
   "cell_type": "code",
   "execution_count": null,
   "metadata": {},
   "outputs": [],
   "source": []
  },
  {
   "cell_type": "markdown",
   "metadata": {},
   "source": [
    "## 4. Classification task – 2 A4"
   ]
  },
  {
   "cell_type": "markdown",
   "metadata": {},
   "source": [
    "### 4a. Print relevant plots and metrics with clear headings."
   ]
  },
  {
   "cell_type": "code",
   "execution_count": null,
   "metadata": {},
   "outputs": [],
   "source": []
  },
  {
   "cell_type": "markdown",
   "metadata": {},
   "source": [
    "### 4b. Explain the applied data pre-processing steps, learning algorithms, and post-processing steps or ensemble methods. Compare the performance of the two algorithms, focusing on performance criteria that are relevant in practice, use 10-fold cross-validation."
   ]
  },
  {
   "cell_type": "code",
   "execution_count": null,
   "metadata": {},
   "outputs": [],
   "source": []
  },
  {
   "cell_type": "markdown",
   "metadata": {},
   "source": [
    "## 5. Bonus task – 1 A4"
   ]
  },
  {
   "cell_type": "markdown",
   "metadata": {},
   "source": []
  },
  {
   "cell_type": "markdown",
   "metadata": {},
   "source": [
    "### 5a. Provide code and report below"
   ]
  },
  {
   "cell_type": "code",
   "execution_count": null,
   "metadata": {},
   "outputs": [],
   "source": []
  }
 ],
 "metadata": {
  "kernelspec": {
   "display_name": "Python 3",
   "language": "python",
   "name": "python3"
  },
  "language_info": {
   "codemirror_mode": {
    "name": "ipython",
    "version": 3
   },
   "file_extension": ".py",
   "mimetype": "text/x-python",
   "name": "python",
   "nbconvert_exporter": "python",
   "pygments_lexer": "ipython3",
   "version": "3.6.9"
  },
  "vscode": {
   "interpreter": {
    "hash": "31f2aee4e71d21fbe5cf8b01ff0e069b9275f58929596ceb00d14d90e3e16cd6"
   }
  }
 },
 "nbformat": 4,
 "nbformat_minor": 2
}
