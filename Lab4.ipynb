{
 "cells": [
  {
   "cell_type": "markdown",
   "metadata": {},
   "source": [
    "# CS4035 - Cyber Data Analytics\n",
    "## Lab 4"
   ]
  },
  {
   "cell_type": "markdown",
   "metadata": {},
   "source": [
    "### Submit on brightspace (zip file with the name Group_xx.zip)\n",
    "This jupyter file completed with code, plots, figures and report for each question. Write the code or explanation below each sub question. For the explanations, include what you would normally include in the report for this lab assignment, for example data pre-processing, hypothesis tested, approach, results, etc.\n",
    "\n",
    "(if you used hard-to-get libraries) The libraries needed to run this file. \n",
    "\n",
    "Your peers should be able to use the readme section for instructions and be able to run this file. "
   ]
  },
  {
   "cell_type": "markdown",
   "metadata": {},
   "source": [
    "## Group Number :"
   ]
  },
  {
   "cell_type": "markdown",
   "metadata": {},
   "source": [
    "## Student 1 \n",
    "### Name :\n",
    "### ID :"
   ]
  },
  {
   "cell_type": "markdown",
   "metadata": {},
   "source": [
    "## Student 2\n",
    "### Name :\n",
    "### ID :"
   ]
  },
  {
   "cell_type": "markdown",
   "metadata": {},
   "source": [
    "## README\n",
    "\n",
    "Provide instructions - libraries used, location of the data file, etc. Keep it short. Remember your peers will not debug your code and should be able to reproduce the exact output you provide."
   ]
  },
  {
   "cell_type": "code",
   "execution_count": null,
   "metadata": {},
   "outputs": [],
   "source": []
  },
  {
   "cell_type": "markdown",
   "metadata": {},
   "source": [
    "## 1. Preparation (0 points)"
   ]
  },
  {
   "cell_type": "markdown",
   "metadata": {},
   "source": [
    "### 1a. Load the dataset and split it into a train and test set"
   ]
  },
  {
   "cell_type": "code",
   "execution_count": 1,
   "metadata": {},
   "outputs": [],
   "source": [
    "from sklearn.model_selection import train_test_split\n",
    "import numpy as np\n",
    "from sklearn.linear_model import SGDClassifier\n",
    "from sklearn.metrics import accuracy_score\n",
    "import matplotlib.pyplot as plt"
   ]
  },
  {
   "cell_type": "code",
   "execution_count": 3,
   "metadata": {},
   "outputs": [],
   "source": [
    "data = np.load(\"cda_lab4_data_2022/X.npy\")\n",
    "label = np.load(\"cda_lab4_data_2022/y.npy\")\n",
    "X_train, X_test, y_train, y_test = train_test_split(data, label, test_size=0.2, random_state=42)\n",
    "X_train = X_train[:2500]\n",
    "X_test = X_test[:2500]\n",
    "y_train = y_train[:2500]\n",
    "y_test = y_test[:2500]"
   ]
  },
  {
   "cell_type": "code",
   "execution_count": 5,
   "metadata": {},
   "outputs": [
    {
     "data": {
      "text/plain": [
       "0.8928"
      ]
     },
     "execution_count": 5,
     "metadata": {},
     "output_type": "execute_result"
    }
   ],
   "source": [
    "model = SGDClassifier(loss='log_loss')\n",
    "model.partial_fit(X_train, y_train, classes=np.unique(y_train))\n",
    "y_pred = model.predict(X_test)\n",
    "accuracy = accuracy_score(y_test, y_pred)\n",
    "accuracy"
   ]
  },
  {
   "cell_type": "markdown",
   "metadata": {},
   "source": [
    "## 2. Attacking linear models (5 Points)"
   ]
  },
  {
   "cell_type": "markdown",
   "metadata": {},
   "source": [
    "### 2a. Implementing useless import attacks\n"
   ]
  },
  {
   "cell_type": "code",
   "execution_count": 6,
   "metadata": {},
   "outputs": [],
   "source": [
    "def evade(sample, coef, n_libraries=10):\n",
    "    library_indices = np.where(sample == 1)[0].tolist()\n",
    "    neg_coef = np.random.permutation(np.where(coef[0] <  0))[0]\n",
    "    sample_neg_coef = np.random.choice(neg_coef, n_libraries)\n",
    "    library_indices.extend(sample_neg_coef.tolist())\n",
    "    \n",
    "    new_row = np.zeros(coef.shape[1])\n",
    "    new_row[library_indices] = 1\n",
    "\n",
    "    return new_row"
   ]
  },
  {
   "cell_type": "code",
   "execution_count": 15,
   "metadata": {},
   "outputs": [],
   "source": [
    "malicious_samples = X_train[np.where(y_train == 1)]\n",
    "coefficients = model.coef_"
   ]
  },
  {
   "cell_type": "code",
   "execution_count": 8,
   "metadata": {},
   "outputs": [
    {
     "data": {
      "text/plain": [
       "(22761,)"
      ]
     },
     "execution_count": 8,
     "metadata": {},
     "output_type": "execute_result"
    }
   ],
   "source": [
    "coefficients[0].shape"
   ]
  },
  {
   "cell_type": "code",
   "execution_count": 9,
   "metadata": {},
   "outputs": [
    {
     "name": "stdout",
     "output_type": "stream",
     "text": [
      "Adding 10 libraries\n",
      "Evaded 82 detections\n",
      "\n",
      "Adding 20 libraries\n",
      "Evaded 194 detections\n",
      "\n",
      "Adding 30 libraries\n",
      "Evaded 334 detections\n",
      "\n",
      "Adding 40 libraries\n",
      "Evaded 492 detections\n",
      "\n",
      "Adding 50 libraries\n",
      "Evaded 575 detections\n",
      "\n",
      "Adding 60 libraries\n",
      "Evaded 643 detections\n",
      "\n",
      "Adding 70 libraries\n",
      "Evaded 690 detections\n",
      "\n",
      "Adding 80 libraries\n",
      "Evaded 753 detections\n",
      "\n",
      "Adding 90 libraries\n",
      "Evaded 818 detections\n",
      "\n",
      "Adding 100 libraries\n",
      "Evaded 892 detections\n",
      "\n",
      "Adding 110 libraries\n",
      "Evaded 939 detections\n",
      "\n",
      "Adding 120 libraries\n",
      "Evaded 977 detections\n",
      "\n",
      "Adding 130 libraries\n",
      "Evaded 983 detections\n",
      "\n",
      "Adding 140 libraries\n",
      "Evaded 987 detections\n",
      "\n",
      "Adding 150 libraries\n",
      "Evaded 994 detections\n",
      "\n",
      "Adding 160 libraries\n",
      "Evaded 994 detections\n",
      "\n",
      "Adding 170 libraries\n",
      "Evaded 1004 detections\n",
      "\n",
      "Adding 180 libraries\n",
      "Evaded 1006 detections\n",
      "\n",
      "Adding 190 libraries\n",
      "Evaded 1014 detections\n",
      "\n",
      "Adding 200 libraries\n",
      "Evaded 1020 detections\n",
      "\n",
      "Adding 210 libraries\n",
      "Evaded 1023 detections\n",
      "\n",
      "Adding 220 libraries\n",
      "Evaded 1026 detections\n",
      "\n",
      "Adding 230 libraries\n",
      "Evaded 1027 detections\n",
      "\n",
      "Adding 240 libraries\n",
      "Evaded 1033 detections\n",
      "\n",
      "Adding 250 libraries\n",
      "Evaded 1034 detections\n",
      "\n",
      "Adding 260 libraries\n",
      "Evaded 1034 detections\n",
      "\n",
      "Adding 270 libraries\n",
      "Evaded 1038 detections\n",
      "\n",
      "Adding 280 libraries\n",
      "Evaded 1037 detections\n",
      "\n",
      "Adding 290 libraries\n",
      "Evaded 1043 detections\n",
      "\n",
      "Adding 300 libraries\n",
      "Evaded 1039 detections\n",
      "\n",
      "Adding 310 libraries\n",
      "Evaded 1044 detections\n",
      "\n",
      "Adding 320 libraries\n",
      "Evaded 1043 detections\n",
      "\n",
      "Adding 330 libraries\n",
      "Evaded 1042 detections\n",
      "\n",
      "Adding 340 libraries\n",
      "Evaded 1042 detections\n",
      "\n",
      "Adding 350 libraries\n",
      "Evaded 1044 detections\n",
      "\n",
      "Adding 360 libraries\n",
      "Evaded 1044 detections\n",
      "\n",
      "Adding 370 libraries\n",
      "Evaded 1044 detections\n",
      "\n",
      "Adding 380 libraries\n",
      "Evaded 1044 detections\n",
      "\n",
      "Adding 390 libraries\n",
      "Evaded 1044 detections\n",
      "\n",
      "Adding 400 libraries\n",
      "Evaded 1044 detections\n",
      "\n",
      "Adding 410 libraries\n",
      "Evaded 1044 detections\n",
      "\n",
      "Adding 420 libraries\n",
      "Evaded 1044 detections\n",
      "\n",
      "Adding 430 libraries\n",
      "Evaded 1045 detections\n",
      "\n",
      "Adding 440 libraries\n",
      "Evaded 1045 detections\n",
      "\n",
      "Adding 450 libraries\n",
      "Evaded 1044 detections\n",
      "\n",
      "Adding 460 libraries\n",
      "Evaded 1045 detections\n",
      "\n",
      "Adding 470 libraries\n",
      "Evaded 1045 detections\n",
      "\n",
      "Adding 480 libraries\n",
      "Evaded 1045 detections\n",
      "\n",
      "Adding 490 libraries\n",
      "Evaded 1045 detections\n",
      "\n"
     ]
    }
   ],
   "source": [
    "changes = []\n",
    "for n in range(10, 500, 10):\n",
    "    print(f\"Adding {n} libraries\")\n",
    "    changed_prediction = 0\n",
    "    for sample in malicious_samples:\n",
    "        prediction  = model.predict([sample])[0]\n",
    "        new_data = evade(sample, coefficients, n_libraries=n)\n",
    "        evaded_prediction = model.predict([new_data])[0]\n",
    "        changed_prediction += evaded_prediction != prediction\n",
    "    print(f\"Evaded {changed_prediction} detections\\n\")\n",
    "    changes.append(changed_prediction/len(malicious_samples))"
   ]
  },
  {
   "cell_type": "code",
   "execution_count": 11,
   "metadata": {},
   "outputs": [
    {
     "data": {
      "image/png": "[encoded data removed]",
      "text/plain": [
       "<Figure size 640x480 with 1 Axes>"
      ]
     },
     "metadata": {},
     "output_type": "display_data"
    }
   ],
   "source": [
    "plt.plot(range(10,500,10), changes, 'o')\n",
    "plt.title(\"Altered predictions\")\n",
    "plt.xlabel(\"Num Libraries added\")\n",
    "plt.ylabel(\"Percentage predictions changed\")\n",
    "plt.show()"
   ]
  },
  {
   "cell_type": "code",
   "execution_count": 12,
   "metadata": {},
   "outputs": [
    {
     "data": {
      "text/plain": [
       "0.8928"
      ]
     },
     "execution_count": 12,
     "metadata": {},
     "output_type": "execute_result"
    }
   ],
   "source": [
    "y_pred = model.predict(X_test)\n",
    "accuracy = accuracy_score(y_test, y_pred)\n",
    "accuracy"
   ]
  },
  {
   "cell_type": "code",
   "execution_count": 14,
   "metadata": {},
   "outputs": [
    {
     "data": {
      "text/plain": [
       "(array([   3,    5,    7, ..., 2496, 2497, 2499], dtype=int64),)"
      ]
     },
     "execution_count": 14,
     "metadata": {},
     "output_type": "execute_result"
    }
   ],
   "source": [
    "malicious_indices"
   ]
  },
  {
   "cell_type": "code",
   "execution_count": 16,
   "metadata": {},
   "outputs": [
    {
     "data": {
      "text/plain": [
       "0.4948"
      ]
     },
     "execution_count": 16,
     "metadata": {},
     "output_type": "execute_result"
    }
   ],
   "source": [
    "X_test_evaded = []\n",
    "for sample in X_test:\n",
    "    evaded_sample = evade(sample, coefficients, n_libraries=250)\n",
    "    X_test_evaded.append(evaded_sample)\n",
    "y_pred = model.predict(X_test_evaded)\n",
    "accuracy = accuracy_score(y_test, y_pred)\n",
    "accuracy"
   ]
  },
  {
   "cell_type": "markdown",
   "metadata": {},
   "source": []
  },
  {
   "cell_type": "code",
   "execution_count": 21,
   "metadata": {},
   "outputs": [],
   "source": [
    "batch_size = 64"
   ]
  },
  {
   "cell_type": "code",
   "execution_count": 22,
   "metadata": {},
   "outputs": [],
   "source": [
    "X_train_batch = np.array_split(X_train, len(X_train)//batch_size)\n",
    "y_train_batch = np.array_split(y_train, len(y_train)//batch_size)"
   ]
  },
  {
   "cell_type": "code",
   "execution_count": 201,
   "metadata": {},
   "outputs": [
    {
     "data": {
      "text/plain": [
       "0.8568"
      ]
     },
     "execution_count": 201,
     "metadata": {},
     "output_type": "execute_result"
    }
   ],
   "source": [
    "model = SGDClassifier(loss='log_loss', random_state=42)\n",
    "\n",
    "for x, y in zip(X_train_batch, y_train_batch):\n",
    "    model.partial_fit(x, y, classes=np.unique(y_train))\n",
    "    \n",
    "\n",
    "y_pred = model.predict(X_test)\n",
    "accuracy = accuracy_score(y_test, y_pred)\n",
    "accuracy"
   ]
  },
  {
   "cell_type": "markdown",
   "metadata": {},
   "source": [
    "### 2b. Analysis and answers to the questions"
   ]
  },
  {
   "cell_type": "code",
   "execution_count": null,
   "metadata": {},
   "outputs": [],
   "source": []
  },
  {
   "cell_type": "markdown",
   "metadata": {},
   "source": [
    "## 3. Improving robustness by hardening (5 Points)"
   ]
  },
  {
   "cell_type": "markdown",
   "metadata": {},
   "source": [
    "### 3a. Implementing hardening"
   ]
  },
  {
   "cell_type": "code",
   "execution_count": 42,
   "metadata": {},
   "outputs": [
    {
     "data": {
      "text/plain": [
       "0.8804"
      ]
     },
     "execution_count": 42,
     "metadata": {},
     "output_type": "execute_result"
    }
   ],
   "source": [
    "X_train_evaded = []\n",
    "\n",
    "for sample in X_train:\n",
    "    evaded_sample = evade(sample, coefficients, n_libraries=250)\n",
    "    X_train_evaded.append(evaded_sample)\n",
    "    \n",
    "X_train_evaded_batch = np.array_split(X_train_evaded, len(X_train_evaded)//batch_size)\n",
    "y_train_batch = np.array_split(y_train, len(y_train)//batch_size)\n",
    "\n",
    "model_2 = SGDClassifier(loss='log_loss', random_state=42)\n",
    "\n",
    "accuracies = []\n",
    "for x, y in zip(X_train_evaded_batch, y_train_batch):\n",
    "    model_2.partial_fit(x, y, classes=np.unique(y_train))\n",
    "    y_pred_evaded = model_2.predict(X_test_evaded)\n",
    "    accuracy = accuracy_score(y_test, y_pred_evaded)\n",
    "    accuracies.append(accuracy)\n",
    "\n",
    "y_pred_2 = model_2.predict(X_test)\n",
    "accuracy = accuracy_score(y_test, y_pred_2)\n",
    "accuracy"
   ]
  },
  {
   "cell_type": "code",
   "execution_count": 43,
   "metadata": {},
   "outputs": [
    {
     "data": {
      "text/plain": [
       "[<matplotlib.lines.Line2D at 0x209e6fd2470>]"
      ]
     },
     "execution_count": 43,
     "metadata": {},
     "output_type": "execute_result"
    },
    {
     "data": {
      "image/png": "[encoded data removed]",
      "text/plain": [
       "<Figure size 640x480 with 1 Axes>"
      ]
     },
     "metadata": {},
     "output_type": "display_data"
    }
   ],
   "source": [
    "plt.plot(range(len(accuracies)), accuracies)"
   ]
  },
  {
   "cell_type": "markdown",
   "metadata": {},
   "source": [
    "### 3b. Analysis and answers to the questions"
   ]
  },
  {
   "cell_type": "code",
   "execution_count": null,
   "metadata": {},
   "outputs": [],
   "source": []
  },
  {
   "cell_type": "markdown",
   "metadata": {},
   "source": [
    "## 4. Training non-negative linear models (5 Points)"
   ]
  },
  {
   "cell_type": "markdown",
   "metadata": {},
   "source": [
    "### 4a. Implement non-negative logistic regression using SGD"
   ]
  },
  {
   "cell_type": "code",
   "execution_count": 39,
   "metadata": {},
   "outputs": [
    {
     "name": "stdout",
     "output_type": "stream",
     "text": [
      "before: [1 0 0 ... 0 1 0]\n",
      "after:  [1 1 0 ... 0 1 0]\n",
      "2500 1168\n",
      "before: [1 0 0 ... 0 1 0]\n",
      "after:  [1 0 0 ... 0 1 0]\n",
      "2500 1225\n",
      "before: [1 0 0 ... 0 1 0]\n",
      "after:  [1 0 0 ... 0 1 0]\n",
      "2500 934\n",
      "before: [1 0 0 ... 0 1 0]\n",
      "after:  [1 0 0 ... 0 1 0]\n",
      "2500 518\n",
      "before: [1 0 0 ... 0 1 0]\n",
      "after:  [1 0 0 ... 0 1 0]\n",
      "2500 847\n",
      "before: [1 0 0 ... 0 1 0]\n",
      "after:  [1 0 0 ... 0 1 0]\n",
      "2500 402\n",
      "before: [1 0 0 ... 0 1 0]\n",
      "after:  [1 0 0 ... 0 1 0]\n",
      "2500 401\n",
      "before: [1 1 0 ... 0 1 0]\n",
      "after:  [1 1 0 ... 0 1 0]\n",
      "2500 745\n",
      "before: [1 0 0 ... 0 1 0]\n",
      "after:  [1 0 0 ... 0 1 0]\n",
      "2500 822\n",
      "before: [1 0 0 ... 0 1 0]\n",
      "after:  [1 0 0 ... 0 1 0]\n",
      "2500 556\n",
      "before: [0 0 0 ... 0 0 0]\n",
      "after:  [0 0 0 ... 0 1 0]\n",
      "2500 339\n",
      "before: [1 0 0 ... 0 1 0]\n",
      "after:  [1 0 0 ... 0 1 0]\n",
      "2500 1057\n",
      "before: [0 0 0 ... 0 0 0]\n",
      "after:  [0 0 0 ... 0 0 0]\n",
      "2500 5\n",
      "before: [0 0 0 ... 0 0 0]\n",
      "after:  [0 0 0 ... 0 0 0]\n",
      "2500 12\n",
      "before: [0 0 0 ... 0 0 0]\n",
      "after:  [0 0 0 ... 0 0 0]\n",
      "2500 183\n",
      "before: [0 0 0 ... 0 1 0]\n",
      "after:  [0 0 0 ... 0 1 0]\n",
      "2500 479\n",
      "before: [1 0 0 ... 0 1 0]\n",
      "after:  [1 0 0 ... 0 1 0]\n",
      "2500 650\n",
      "before: [1 0 0 ... 0 1 0]\n",
      "after:  [1 0 0 ... 0 1 0]\n",
      "2500 935\n",
      "before: [0 0 0 ... 0 0 0]\n",
      "after:  [0 0 0 ... 0 0 0]\n",
      "2500 35\n",
      "before: [0 0 0 ... 0 0 0]\n",
      "after:  [0 0 0 ... 0 0 0]\n",
      "2500 21\n",
      "before: [0 0 0 ... 0 0 0]\n",
      "after:  [0 0 0 ... 0 0 0]\n",
      "2500 136\n",
      "before: [0 0 0 ... 0 0 0]\n",
      "after:  [0 0 0 ... 0 0 0]\n",
      "2500 5\n",
      "before: [0 0 0 ... 0 0 0]\n",
      "after:  [0 0 0 ... 0 0 0]\n",
      "2500 69\n",
      "before: [0 0 0 ... 0 0 0]\n",
      "after:  [0 0 0 ... 0 0 0]\n",
      "2500 5\n",
      "before: [0 0 0 ... 0 0 0]\n",
      "after:  [0 0 0 ... 0 0 0]\n",
      "2500 26\n",
      "before: [0 0 0 ... 0 0 0]\n",
      "after:  [0 0 0 ... 0 0 0]\n",
      "2500 26\n",
      "before: [0 0 0 ... 0 0 0]\n",
      "after:  [0 0 0 ... 0 0 0]\n",
      "2500 22\n",
      "before: [0 0 0 ... 0 0 0]\n",
      "after:  [0 0 0 ... 0 0 0]\n",
      "2500 142\n",
      "before: [0 0 0 ... 0 0 0]\n",
      "after:  [0 0 0 ... 0 0 0]\n",
      "2500 22\n",
      "before: [0 0 0 ... 0 0 0]\n",
      "after:  [0 0 0 ... 0 0 0]\n",
      "2500 47\n",
      "before: [0 0 0 ... 0 0 0]\n",
      "after:  [0 0 0 ... 0 0 0]\n",
      "2500 45\n",
      "before: [0 0 0 ... 0 0 0]\n",
      "after:  [0 0 0 ... 0 0 0]\n",
      "2500 8\n",
      "before: [0 0 0 ... 0 0 0]\n",
      "after:  [0 0 0 ... 0 0 0]\n",
      "2500 41\n",
      "before: [0 0 0 ... 0 0 0]\n",
      "after:  [0 0 0 ... 0 0 0]\n",
      "2500 149\n",
      "before: [0 0 0 ... 0 0 0]\n",
      "after:  [0 0 0 ... 0 0 0]\n",
      "2500 102\n",
      "before: [0 0 0 ... 0 0 0]\n",
      "after:  [0 0 0 ... 0 0 0]\n",
      "2500 2\n",
      "before: [0 0 0 ... 0 0 0]\n",
      "after:  [0 0 0 ... 0 0 0]\n",
      "2500 1\n",
      "before: [0 0 0 ... 0 0 0]\n",
      "after:  [0 0 0 ... 0 0 0]\n",
      "2500 1\n",
      "before: [0 0 0 ... 0 0 0]\n",
      "after:  [0 0 0 ... 0 0 0]\n",
      "2500 43\n"
     ]
    },
    {
     "data": {
      "text/plain": [
       "0.8884"
      ]
     },
     "execution_count": 39,
     "metadata": {},
     "output_type": "execute_result"
    }
   ],
   "source": [
    "model_3 = SGDClassifier(loss='log_loss', random_state=42)\n",
    "\n",
    "accuracies = []\n",
    "for x, y in zip(X_train_batch, y_train_batch):\n",
    "    model_3.partial_fit(x, y, classes=np.unique(y_train))\n",
    "#     print(\"before:\", model_3.predict(X_test_evaded))\n",
    "    while np.sum(model_3.coef_) < 0:\n",
    "#         print(model_3.coef_)\n",
    "        min_coef_index = np.argmin(model_3.coef_)\n",
    "        model_3.coef_[0][min_coef_index] = 0\n",
    "#     print(\"after: \",model_3.predict(X_test_evaded))\n",
    "    print(len(y_pred_evaded), sum(y_pred_evaded))\n",
    "    y_pred_evaded = model_3.predict(X_test_evaded)\n",
    "    accuracy = accuracy_score(y_test, y_pred_evaded)\n",
    "    accuracies.append(accuracy)\n",
    "    \n",
    "y_pred = model_3.predict(X_test)\n",
    "accuracy = accuracy_score(y_test, y_pred)\n",
    "accuracy"
   ]
  },
  {
   "cell_type": "code",
   "execution_count": 40,
   "metadata": {},
   "outputs": [
    {
     "data": {
      "text/plain": [
       "0.5072"
      ]
     },
     "execution_count": 40,
     "metadata": {},
     "output_type": "execute_result"
    }
   ],
   "source": [
    "y_pred_evaded = model_3.predict(X_test_evaded)\n",
    "accuracy = accuracy_score(y_test, y_pred_evaded)\n",
    "accuracy"
   ]
  },
  {
   "cell_type": "code",
   "execution_count": 41,
   "metadata": {},
   "outputs": [
    {
     "data": {
      "text/plain": [
       "[<matplotlib.lines.Line2D at 0x209e6e4b370>]"
      ]
     },
     "execution_count": 41,
     "metadata": {},
     "output_type": "execute_result"
    },
    {
     "data": {
      "image/png": "[encoded data removed]",
      "text/plain": [
       "<Figure size 640x480 with 1 Axes>"
      ]
     },
     "metadata": {},
     "output_type": "display_data"
    }
   ],
   "source": [
    "plt.plot(range(len(accuracies)), accuracies)"
   ]
  },
  {
   "cell_type": "markdown",
   "metadata": {},
   "source": [
    "### 4b. Analysis and answers to the questions."
   ]
  },
  {
   "cell_type": "code",
   "execution_count": null,
   "metadata": {},
   "outputs": [],
   "source": []
  },
  {
   "cell_type": "markdown",
   "metadata": {},
   "source": [
    "## 5. Bonus: robust decision trees for fraud detection (5 Points)"
   ]
  },
  {
   "cell_type": "markdown",
   "metadata": {},
   "source": [
    "### 5a. Train and analyze a regular decision tree for fraud detection"
   ]
  },
  {
   "cell_type": "code",
   "execution_count": null,
   "metadata": {},
   "outputs": [],
   "source": []
  },
  {
   "cell_type": "markdown",
   "metadata": {},
   "source": []
  },
  {
   "cell_type": "markdown",
   "metadata": {},
   "source": [
    "### 5b. Train and analyze a robust decision tree (GROOT) for fraud detection"
   ]
  },
  {
   "cell_type": "code",
   "execution_count": null,
   "metadata": {},
   "outputs": [],
   "source": []
  },
  {
   "cell_type": "markdown",
   "metadata": {},
   "source": []
  },
  {
   "cell_type": "markdown",
   "metadata": {},
   "source": [
    "### 5c. Evaluate the robustness of the two models"
   ]
  },
  {
   "cell_type": "code",
   "execution_count": null,
   "metadata": {},
   "outputs": [],
   "source": []
  },
  {
   "cell_type": "markdown",
   "metadata": {},
   "source": []
  }
 ],
 "metadata": {
  "kernelspec": {
   "display_name": "Python 3 (ipykernel)",
   "language": "python",
   "name": "python3"
  },
  "language_info": {
   "codemirror_mode": {
    "name": "ipython",
    "version": 3
   },
   "file_extension": ".py",
   "mimetype": "text/x-python",
   "name": "python",
   "nbconvert_exporter": "python",
   "pygments_lexer": "ipython3",
   "version": "3.10.8"
  }
 },
 "nbformat": 4,
 "nbformat_minor": 2
}
